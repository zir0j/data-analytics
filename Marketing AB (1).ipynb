{
 "cells": [
  {
   "cell_type": "markdown",
   "id": "7b6923f0",
   "metadata": {},
   "source": [
    "## Introduction"
   ]
  },
  {
   "cell_type": "markdown",
   "id": "cb752394",
   "metadata": {},
   "source": [
    "Ads and PSAs are just some of the many ways companies promote their products and services. Its effectiveness to turn people to consume said products and services, however, is up in the air and left for questioning. This report aims to answer two of the following questions:\n",
    "\n",
    "1. How successful are the following modes of dissemination in terms of endorsing products and services?\n",
    "\n",
    "    a. Ads\n",
    "    \n",
    "    b. 1.2 PSAs\n",
    "    \n",
    "    \n",
    "2. What are possible initiatives to further the effectiveness of said modes of dissemination?"
   ]
  },
  {
   "cell_type": "markdown",
   "id": "035ac4e2",
   "metadata": {},
   "source": [
    "## Importing Libraries and Dataset"
   ]
  },
  {
   "cell_type": "markdown",
   "id": "975f230c",
   "metadata": {},
   "source": [
    "For this report, we'll be using ``numpy``, ``pandas``, ``scipy.stats``, and ``matplotlib.pyplot`` to analyze our data. "
   ]
  },
  {
   "cell_type": "code",
   "execution_count": 1,
   "id": "90226b54",
   "metadata": {},
   "outputs": [],
   "source": [
    "import numpy as np\n",
    "import pandas as pd\n",
    "import scipy.stats as stats\n",
    "import matplotlib.pyplot as plt"
   ]
  },
  {
   "cell_type": "markdown",
   "id": "54eb1c6b",
   "metadata": {},
   "source": [
    "After inserting the necessary libraries, we can now create our dataframe (abbreviated to ``df`` in the code below). The dataset was provided by [Favio Vázquez](https://www.kaggle.com/datasets/faviovaz/marketing-ab-testing) from Kaggle."
   ]
  },
  {
   "cell_type": "code",
   "execution_count": 2,
   "id": "5f3e3cc2",
   "metadata": {},
   "outputs": [
    {
     "data": {
      "text/html": [
       "<div>\n",
       "<style scoped>\n",
       "    .dataframe tbody tr th:only-of-type {\n",
       "        vertical-align: middle;\n",
       "    }\n",
       "\n",
       "    .dataframe tbody tr th {\n",
       "        vertical-align: top;\n",
       "    }\n",
       "\n",
       "    .dataframe thead th {\n",
       "        text-align: right;\n",
       "    }\n",
       "</style>\n",
       "<table border=\"1\" class=\"dataframe\">\n",
       "  <thead>\n",
       "    <tr style=\"text-align: right;\">\n",
       "      <th></th>\n",
       "      <th>user_id</th>\n",
       "      <th>test_group</th>\n",
       "      <th>converted</th>\n",
       "      <th>total_ads</th>\n",
       "      <th>most_ads_day</th>\n",
       "      <th>most_ads_hour</th>\n",
       "    </tr>\n",
       "  </thead>\n",
       "  <tbody>\n",
       "    <tr>\n",
       "      <th>0</th>\n",
       "      <td>1069124</td>\n",
       "      <td>ad</td>\n",
       "      <td>False</td>\n",
       "      <td>130</td>\n",
       "      <td>Monday</td>\n",
       "      <td>20</td>\n",
       "    </tr>\n",
       "    <tr>\n",
       "      <th>1</th>\n",
       "      <td>1119715</td>\n",
       "      <td>ad</td>\n",
       "      <td>False</td>\n",
       "      <td>93</td>\n",
       "      <td>Tuesday</td>\n",
       "      <td>22</td>\n",
       "    </tr>\n",
       "    <tr>\n",
       "      <th>2</th>\n",
       "      <td>1144181</td>\n",
       "      <td>ad</td>\n",
       "      <td>False</td>\n",
       "      <td>21</td>\n",
       "      <td>Tuesday</td>\n",
       "      <td>18</td>\n",
       "    </tr>\n",
       "    <tr>\n",
       "      <th>3</th>\n",
       "      <td>1435133</td>\n",
       "      <td>ad</td>\n",
       "      <td>False</td>\n",
       "      <td>355</td>\n",
       "      <td>Tuesday</td>\n",
       "      <td>10</td>\n",
       "    </tr>\n",
       "    <tr>\n",
       "      <th>4</th>\n",
       "      <td>1015700</td>\n",
       "      <td>ad</td>\n",
       "      <td>False</td>\n",
       "      <td>276</td>\n",
       "      <td>Friday</td>\n",
       "      <td>14</td>\n",
       "    </tr>\n",
       "    <tr>\n",
       "      <th>...</th>\n",
       "      <td>...</td>\n",
       "      <td>...</td>\n",
       "      <td>...</td>\n",
       "      <td>...</td>\n",
       "      <td>...</td>\n",
       "      <td>...</td>\n",
       "    </tr>\n",
       "    <tr>\n",
       "      <th>588096</th>\n",
       "      <td>1278437</td>\n",
       "      <td>ad</td>\n",
       "      <td>False</td>\n",
       "      <td>1</td>\n",
       "      <td>Tuesday</td>\n",
       "      <td>23</td>\n",
       "    </tr>\n",
       "    <tr>\n",
       "      <th>588097</th>\n",
       "      <td>1327975</td>\n",
       "      <td>ad</td>\n",
       "      <td>False</td>\n",
       "      <td>1</td>\n",
       "      <td>Tuesday</td>\n",
       "      <td>23</td>\n",
       "    </tr>\n",
       "    <tr>\n",
       "      <th>588098</th>\n",
       "      <td>1038442</td>\n",
       "      <td>ad</td>\n",
       "      <td>False</td>\n",
       "      <td>3</td>\n",
       "      <td>Tuesday</td>\n",
       "      <td>23</td>\n",
       "    </tr>\n",
       "    <tr>\n",
       "      <th>588099</th>\n",
       "      <td>1496395</td>\n",
       "      <td>ad</td>\n",
       "      <td>False</td>\n",
       "      <td>1</td>\n",
       "      <td>Tuesday</td>\n",
       "      <td>23</td>\n",
       "    </tr>\n",
       "    <tr>\n",
       "      <th>588100</th>\n",
       "      <td>1237779</td>\n",
       "      <td>ad</td>\n",
       "      <td>False</td>\n",
       "      <td>1</td>\n",
       "      <td>Tuesday</td>\n",
       "      <td>23</td>\n",
       "    </tr>\n",
       "  </tbody>\n",
       "</table>\n",
       "<p>588101 rows × 6 columns</p>\n",
       "</div>"
      ],
      "text/plain": [
       "        user_id test_group  converted  total_ads most_ads_day  most_ads_hour\n",
       "0       1069124         ad      False        130       Monday             20\n",
       "1       1119715         ad      False         93      Tuesday             22\n",
       "2       1144181         ad      False         21      Tuesday             18\n",
       "3       1435133         ad      False        355      Tuesday             10\n",
       "4       1015700         ad      False        276       Friday             14\n",
       "...         ...        ...        ...        ...          ...            ...\n",
       "588096  1278437         ad      False          1      Tuesday             23\n",
       "588097  1327975         ad      False          1      Tuesday             23\n",
       "588098  1038442         ad      False          3      Tuesday             23\n",
       "588099  1496395         ad      False          1      Tuesday             23\n",
       "588100  1237779         ad      False          1      Tuesday             23\n",
       "\n",
       "[588101 rows x 6 columns]"
      ]
     },
     "execution_count": 2,
     "metadata": {},
     "output_type": "execute_result"
    }
   ],
   "source": [
    "#df is the abbreviation of DataFrame\n",
    "\n",
    "df = pd.read_csv('marketing_AB_clean.csv')\n",
    "\n",
    "df"
   ]
  },
  {
   "cell_type": "markdown",
   "id": "fbc134cd",
   "metadata": {},
   "source": [
    "The data contains 588101 rows and six columns. According to Vázquez (2021), the following are the description of each of the columns: \n",
    "* ``user_id`` is a unique set of values to tag individual users who were exposed to either the Ads or PSA.\n",
    "* ``test_group`` is whether the user has been exposed to either the Ads or PSA.\n",
    "* ``converted`` explains whether the user has bought the product (True) or not (False).\n",
    "* ``total_ads`` is the amount of ads seen by the user.\n",
    "* ``most_ads_day`` is the day the user saw the most amount of ads.\n",
    "* ``most_ads_hour`` is the time of day the person saw the most ads."
   ]
  },
  {
   "cell_type": "code",
   "execution_count": 3,
   "id": "436788d2",
   "metadata": {},
   "outputs": [
    {
     "data": {
      "text/plain": [
       "array(['ad', 'psa'], dtype=object)"
      ]
     },
     "execution_count": 3,
     "metadata": {},
     "output_type": "execute_result"
    }
   ],
   "source": [
    "#To identify the two groups in the dataset\n",
    "\n",
    "group_names = df.loc[:, 'test_group']\n",
    "group_names_unique = group_names.unique()\n",
    "\n",
    "group_names_unique"
   ]
  },
  {
   "cell_type": "markdown",
   "id": "31bd7c94",
   "metadata": {},
   "source": [
    "## Sampling the Data"
   ]
  },
  {
   "cell_type": "markdown",
   "id": "655767e2",
   "metadata": {},
   "source": [
    "After cleaning the data, I applied Slovin's Formula to the study to get a sample from the dataset. Once computed, I sampled ``400`` users in total. "
   ]
  },
  {
   "cell_type": "code",
   "execution_count": 4,
   "id": "8c3b385f",
   "metadata": {},
   "outputs": [
    {
     "name": "stdout",
     "output_type": "stream",
     "text": [
      "There are 0 duplicates in this dataset.\n"
     ]
    }
   ],
   "source": [
    "#To remove duplicates from the dataset.\n",
    "\n",
    "users = df['user_id'].value_counts(ascending=False)\n",
    "multiple_users = users[users > 1].count()\n",
    "\n",
    "print(f'There are {multiple_users} duplicates in this dataset.')"
   ]
  },
  {
   "cell_type": "code",
   "execution_count": 5,
   "id": "2d9c3c31",
   "metadata": {},
   "outputs": [
    {
     "name": "stdout",
     "output_type": "stream",
     "text": [
      "We need 400 responses as sample.\n"
     ]
    }
   ],
   "source": [
    "#Sample Size using Slovin's Formula\n",
    "\n",
    "def n() :\n",
    "    pop = df.loc[:,'test_group'].value_counts().sum()\n",
    "    moe = 0.05 #margin of error\n",
    "    moe2 = moe**2 #Margin Error raised to 2 as needed in the formula\n",
    "    den = 1+(pop*moe2) #den is Short for denominator\n",
    "    slovin = pop/den\n",
    "    answer = round(slovin)\n",
    "    print(f'We need {answer} responses as sample.')\n",
    "\n",
    "n()"
   ]
  },
  {
   "cell_type": "code",
   "execution_count": 6,
   "id": "b1794342",
   "metadata": {},
   "outputs": [
    {
     "data": {
      "text/html": [
       "<div>\n",
       "<style scoped>\n",
       "    .dataframe tbody tr th:only-of-type {\n",
       "        vertical-align: middle;\n",
       "    }\n",
       "\n",
       "    .dataframe tbody tr th {\n",
       "        vertical-align: top;\n",
       "    }\n",
       "\n",
       "    .dataframe thead th {\n",
       "        text-align: right;\n",
       "    }\n",
       "</style>\n",
       "<table border=\"1\" class=\"dataframe\">\n",
       "  <thead>\n",
       "    <tr style=\"text-align: right;\">\n",
       "      <th></th>\n",
       "      <th>user_id</th>\n",
       "      <th>test_group</th>\n",
       "      <th>converted</th>\n",
       "      <th>total_ads</th>\n",
       "      <th>most_ads_day</th>\n",
       "      <th>most_ads_hour</th>\n",
       "    </tr>\n",
       "  </thead>\n",
       "  <tbody>\n",
       "    <tr>\n",
       "      <th>0</th>\n",
       "      <td>1525830</td>\n",
       "      <td>ad</td>\n",
       "      <td>False</td>\n",
       "      <td>5</td>\n",
       "      <td>Saturday</td>\n",
       "      <td>17</td>\n",
       "    </tr>\n",
       "    <tr>\n",
       "      <th>1</th>\n",
       "      <td>1513094</td>\n",
       "      <td>ad</td>\n",
       "      <td>False</td>\n",
       "      <td>59</td>\n",
       "      <td>Thursday</td>\n",
       "      <td>10</td>\n",
       "    </tr>\n",
       "    <tr>\n",
       "      <th>2</th>\n",
       "      <td>1475135</td>\n",
       "      <td>ad</td>\n",
       "      <td>False</td>\n",
       "      <td>6</td>\n",
       "      <td>Tuesday</td>\n",
       "      <td>13</td>\n",
       "    </tr>\n",
       "    <tr>\n",
       "      <th>3</th>\n",
       "      <td>1635331</td>\n",
       "      <td>ad</td>\n",
       "      <td>False</td>\n",
       "      <td>96</td>\n",
       "      <td>Tuesday</td>\n",
       "      <td>19</td>\n",
       "    </tr>\n",
       "    <tr>\n",
       "      <th>4</th>\n",
       "      <td>1499483</td>\n",
       "      <td>ad</td>\n",
       "      <td>True</td>\n",
       "      <td>119</td>\n",
       "      <td>Saturday</td>\n",
       "      <td>15</td>\n",
       "    </tr>\n",
       "  </tbody>\n",
       "</table>\n",
       "</div>"
      ],
      "text/plain": [
       "   user_id test_group  converted  total_ads most_ads_day  most_ads_hour\n",
       "0  1525830         ad      False          5     Saturday             17\n",
       "1  1513094         ad      False         59     Thursday             10\n",
       "2  1475135         ad      False          6      Tuesday             13\n",
       "3  1635331         ad      False         96      Tuesday             19\n",
       "4  1499483         ad       True        119     Saturday             15"
      ]
     },
     "execution_count": 6,
     "metadata": {},
     "output_type": "execute_result"
    }
   ],
   "source": [
    "#To check if the sampled data is concatenated successfully\n",
    "\n",
    "ads_sample = df[df['test_group'] == 'ad'].sample(n=200, random_state=1)\n",
    "psa_sample = df[df['test_group'] == 'psa'].sample(n=200, random_state=1)\n",
    "\n",
    "ab_test = pd.concat([ads_sample, psa_sample], axis=0)\n",
    "ab_test.reset_index(drop=True, inplace=True)\n",
    "\n",
    "ab_test.head()"
   ]
  },
  {
   "cell_type": "code",
   "execution_count": 7,
   "id": "92adda29",
   "metadata": {},
   "outputs": [
    {
     "data": {
      "text/plain": [
       "ad     200\n",
       "psa    200\n",
       "Name: test_group, dtype: int64"
      ]
     },
     "execution_count": 7,
     "metadata": {},
     "output_type": "execute_result"
    }
   ],
   "source": [
    "#To check if each group is represented\n",
    "\n",
    "ab_test['test_group'].value_counts()"
   ]
  },
  {
   "cell_type": "markdown",
   "id": "93e4372d",
   "metadata": {},
   "source": [
    "## Analyzing the Data"
   ]
  },
  {
   "cell_type": "markdown",
   "id": "fc443490",
   "metadata": {},
   "source": [
    "Cross-tabulation was performed to proceed with the Chi-Square test. The treatment is the perfecti fit to see the correlation between the test group and the effectiveness of their treatment. "
   ]
  },
  {
   "cell_type": "markdown",
   "id": "4139857f",
   "metadata": {},
   "source": [
    "**Hypotheses**\n",
    "<br>\n",
    "$H_{0}$ = There is no correlation between the mode of dissemination and its effectiveness\n",
    "<br>\n",
    "$H_{a}$ = There is a correlation between the mode of dissemination and its effectiveness\n",
    "<br>\n",
    "$p-value = 0.05$"
   ]
  },
  {
   "cell_type": "code",
   "execution_count": 8,
   "id": "eb97c30f",
   "metadata": {},
   "outputs": [
    {
     "data": {
      "image/png": "[encoded data removed]",
      "text/plain": [
       "<Figure size 640x480 with 1 Axes>"
      ]
     },
     "metadata": {},
     "output_type": "display_data"
    },
    {
     "name": "stdout",
     "output_type": "stream",
     "text": [
      "Chi2ContingencyResult(statistic=3.626943005181347, pvalue=0.05685115158291867, dof=1, expected_freq=array([[193.,   7.],\n",
      "       [193.,   7.]]))\n"
     ]
    }
   ],
   "source": [
    "#Cross-Tabulation for A/B test\n",
    "ctab_results = pd.crosstab(ab_test.test_group, ab_test.converted)\n",
    "\n",
    "#Bar Chart\n",
    "def results_bar_chart() :\n",
    "    ctab_results.plot(kind='bar', stacked=True)\n",
    "    plt.xlabel('Treatment')\n",
    "    plt.ylabel('Conversion')\n",
    "    plt.title('Conversion per Treatment')\n",
    "    plt.show()\n",
    "\n",
    "#Chi-Square Test\n",
    "def results_chi_sqaure() :\n",
    "    ctab_results_chi_square = stats.chi2_contingency(ctab_results)\n",
    "    print(ctab_results_chi_square)\n",
    "    \n",
    "#To print results\n",
    "def results():\n",
    "    results_bar_chart()\n",
    "    results_chi_sqaure()\n",
    "    \n",
    "results()"
   ]
  },
  {
   "cell_type": "markdown",
   "id": "504b0a06",
   "metadata": {},
   "source": [
    "As findings show that the correlation has a $p-value$ of $0.056$, the null hypothesis is not rejected. However, this does not necessarily mean that the alternative hypothesis is true.\n",
    "\n",
    "As it is apparent that either of the modes of dissemination have been effective, we may look at other ways that the modes of dissemination can be effective. "
   ]
  },
  {
   "cell_type": "markdown",
   "id": "ea017ff9",
   "metadata": {},
   "source": [
    "## Initiatives"
   ]
  },
  {
   "cell_type": "markdown",
   "id": "b95f14be",
   "metadata": {},
   "source": [
    "Upon further analysis, it can be seen that more people consumed the product or service in Monday and Tuesday. Two desicions can be made:\n",
    "1. Ads should be posted around Mondays and Tuesdays\n",
    "2. More posts can be posted towards the ends of the week (Thursdays-Saturdays)"
   ]
  },
  {
   "cell_type": "code",
   "execution_count": 9,
   "id": "dc3a4b0b",
   "metadata": {},
   "outputs": [
    {
     "name": "stdout",
     "output_type": "stream",
     "text": [
      "converted     False  True \n",
      "most_ads_day              \n",
      "Friday           69      1\n",
      "Monday           58      4\n",
      "Saturday         53      1\n",
      "Sunday           60      2\n",
      "Thursday         62      1\n",
      "Tuesday          38      4\n",
      "Wednesday        46      1\n",
      " \n"
     ]
    },
    {
     "data": {
      "image/png": "[encoded data removed]",
      "text/plain": [
       "<Figure size 640x480 with 1 Axes>"
      ]
     },
     "metadata": {},
     "output_type": "display_data"
    }
   ],
   "source": [
    "#To check days with the most converted\n",
    "\n",
    "ctab_days = pd.crosstab(ab_test.most_ads_day, ab_test.converted)\n",
    "\n",
    "def days_bar_chart() :\n",
    "    print(ctab_days)\n",
    "    print(\" \")\n",
    "    ctab_days.plot(kind='bar', stacked=True)\n",
    "    plt.xlabel('Days')\n",
    "    plt.ylabel('Conversion')\n",
    "    plt.title(\"Conversion per Treatment\")\n",
    "    plt.show()\n",
    "    \n",
    "days_bar_chart()"
   ]
  },
  {
   "cell_type": "code",
   "execution_count": 10,
   "id": "cf59012b",
   "metadata": {},
   "outputs": [
    {
     "name": "stdout",
     "output_type": "stream",
     "text": [
      "The median time with most ads is at 14:00.\n",
      "The latest time with most ads is at 23:00.\n"
     ]
    }
   ],
   "source": [
    "#To seek peek hours where most ads appear.\n",
    "\n",
    "def for_initiatives() : \n",
    "    ab_median = ab_test['most_ads_hour'].median()\n",
    "    ab_max = mean = ab_test['most_ads_hour'].max()\n",
    "    print(f'The median time with most ads is at {round(ab_median)}:00.')\n",
    "    print(f'The latest time with most ads is at {round(ab_max)}:00.')\n",
    "    \n",
    "for_initiatives()"
   ]
  },
  {
   "cell_type": "markdown",
   "id": "692377bf",
   "metadata": {},
   "source": [
    "It can also be seen that most ads pop up on non-peak hours (18:00-20:00). Hence, two decisions can be made:\n",
    "1. Post during non-peak hours other than 14:00\n",
    "2. Post ads before 23:00\n",
    "\n",
    "Other suggestions for making data-driven decisions includes further gathering data about the content of Ads and PSAs, the type of product or service being endorsed, and the demographic of the users."
   ]
  },
  {
   "cell_type": "markdown",
   "id": "d970d457",
   "metadata": {},
   "source": [
    "## Conclusion"
   ]
  },
  {
   "cell_type": "markdown",
   "id": "9ce437cd",
   "metadata": {},
   "source": [
    "As seen in the analysis of the data through A/B testing via Chi-square, neither Ads nor PSA may be effective in endorsing products and services. Peak hours and days may be a factor of its effectiveness. Further data can be scrapped to further analyze the results better."
   ]
  }
 ],
 "metadata": {
  "kernelspec": {
   "display_name": "Python 3 (ipykernel)",
   "language": "python",
   "name": "python3"
  },
  "language_info": {
   "codemirror_mode": {
    "name": "ipython",
    "version": 3
   },
   "file_extension": ".py",
   "mimetype": "text/x-python",
   "name": "python",
   "nbconvert_exporter": "python",
   "pygments_lexer": "ipython3",
   "version": "3.10.9"
  }
 },
 "nbformat": 4,
 "nbformat_minor": 5
}
