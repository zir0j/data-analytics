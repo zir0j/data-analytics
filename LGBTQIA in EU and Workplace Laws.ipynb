{
 "cells": [
  {
   "cell_type": "markdown",
   "id": "d154468f",
   "metadata": {},
   "source": [
    "# Disclaimer"
   ]
  },
  {
   "cell_type": "markdown",
   "id": "5188c954",
   "metadata": {},
   "source": [
    "This is a **practice notebook** that I did as a way to refresh myself with ``numpy``, ``pandas``, and ``scipy.stats``. This is in **NO WAY A VALID STUDY**. The dataset was downloaded from Kaggle and as created by [ruslankl](https://www.kaggle.com/datasets/ruslankl/european-union-lgbt-survey-2012). Methodology of the said survey is found [here](https://fra.europa.eu/sites/default/files/eu-lgbt-survey-technical-report_en.pdf). Again, this entire notebook is **NO WAY A VALID STUDY**. This was msostly done for personal practice and upskilling."
   ]
  },
  {
   "cell_type": "markdown",
   "id": "a5a64749",
   "metadata": {},
   "source": [
    "# Introduction"
   ]
  },
  {
   "cell_type": "markdown",
   "id": "604e67dc",
   "metadata": {},
   "source": [
    "![Demonstrators waved rainbow and EU flags](https://ichef.bbci.co.uk/news/976/cpsprodpb/11C15/production/_89952727_89952694.jpg.webp)\n",
    "\n",
    "The LGBTQIA+ community continues to fight for their rights across parts of the world as it affects aspects of their lives. From Healthcare to Marriage, these sectors do not cater to the community at large. An unspoken aspect of queer and trans lives that is not spoken about is Employment. Many queer and trans people face discrimination in their lives. This is not new to countries inside the European Union (EU). Hence, this data report examined the following questions:\n",
    "\n",
    "1. Is there any legal provision providing safety against discrimination in Employment for the LGBTQIA+ community within the EU?\n",
    "2. Are the responses of the respondents correlated to their subset within the LGBTQIA+ community within the EU?\n",
    "3. Are the responses of the respondents correlated to their country of origin within the EU?"
   ]
  },
  {
   "cell_type": "markdown",
   "id": "25393701",
   "metadata": {},
   "source": [
    "# Dataset and Libraries used"
   ]
  },
  {
   "cell_type": "markdown",
   "id": "5de4f57e",
   "metadata": {},
   "source": [
    "The main language used to analyze the data is Python. Using the libraries ``numpy``, ``pandas``, and ``matplotlib.pyplot``, the writer can get a descriptive analysis of the dataset ``LGBT_Survey_RightsAwareness.csv``. Likewise, the ``researchpy`` library and the ``scipy.stats`` library were imported to gather an inferential analysis of the dataset."
   ]
  },
  {
   "cell_type": "code",
   "execution_count": 29,
   "id": "4a4e3510",
   "metadata": {},
   "outputs": [
    {
     "data": {
      "text/html": [
       "<div>\n",
       "<style scoped>\n",
       "    .dataframe tbody tr th:only-of-type {\n",
       "        vertical-align: middle;\n",
       "    }\n",
       "\n",
       "    .dataframe tbody tr th {\n",
       "        vertical-align: top;\n",
       "    }\n",
       "\n",
       "    .dataframe thead th {\n",
       "        text-align: right;\n",
       "    }\n",
       "</style>\n",
       "<table border=\"1\" class=\"dataframe\">\n",
       "  <thead>\n",
       "    <tr style=\"text-align: right;\">\n",
       "      <th></th>\n",
       "      <th>CountryCode</th>\n",
       "      <th>subset</th>\n",
       "      <th>question_code</th>\n",
       "      <th>question_label</th>\n",
       "      <th>answer</th>\n",
       "      <th>percentage</th>\n",
       "      <th>notes</th>\n",
       "    </tr>\n",
       "  </thead>\n",
       "  <tbody>\n",
       "    <tr>\n",
       "      <th>0</th>\n",
       "      <td>Austria</td>\n",
       "      <td>Lesbian</td>\n",
       "      <td>d1</td>\n",
       "      <td>In the country where you live, is there a law ...</td>\n",
       "      <td>Yes</td>\n",
       "      <td>53</td>\n",
       "      <td>NaN</td>\n",
       "    </tr>\n",
       "    <tr>\n",
       "      <th>1</th>\n",
       "      <td>Austria</td>\n",
       "      <td>Lesbian</td>\n",
       "      <td>d1</td>\n",
       "      <td>In the country where you live, is there a law ...</td>\n",
       "      <td>No</td>\n",
       "      <td>10</td>\n",
       "      <td>NaN</td>\n",
       "    </tr>\n",
       "    <tr>\n",
       "      <th>2</th>\n",
       "      <td>Austria</td>\n",
       "      <td>Lesbian</td>\n",
       "      <td>d1</td>\n",
       "      <td>In the country where you live, is there a law ...</td>\n",
       "      <td>Don`t know</td>\n",
       "      <td>37</td>\n",
       "      <td>NaN</td>\n",
       "    </tr>\n",
       "    <tr>\n",
       "      <th>3</th>\n",
       "      <td>Austria</td>\n",
       "      <td>Gay</td>\n",
       "      <td>d1</td>\n",
       "      <td>In the country where you live, is there a law ...</td>\n",
       "      <td>Yes</td>\n",
       "      <td>45</td>\n",
       "      <td>NaN</td>\n",
       "    </tr>\n",
       "    <tr>\n",
       "      <th>4</th>\n",
       "      <td>Austria</td>\n",
       "      <td>Gay</td>\n",
       "      <td>d1</td>\n",
       "      <td>In the country where you live, is there a law ...</td>\n",
       "      <td>No</td>\n",
       "      <td>16</td>\n",
       "      <td>NaN</td>\n",
       "    </tr>\n",
       "  </tbody>\n",
       "</table>\n",
       "</div>"
      ],
      "text/plain": [
       "  CountryCode   subset question_code  \\\n",
       "0     Austria  Lesbian            d1   \n",
       "1     Austria  Lesbian            d1   \n",
       "2     Austria  Lesbian            d1   \n",
       "3     Austria      Gay            d1   \n",
       "4     Austria      Gay            d1   \n",
       "\n",
       "                                      question_label      answer percentage  \\\n",
       "0  In the country where you live, is there a law ...         Yes         53   \n",
       "1  In the country where you live, is there a law ...          No         10   \n",
       "2  In the country where you live, is there a law ...  Don`t know         37   \n",
       "3  In the country where you live, is there a law ...         Yes         45   \n",
       "4  In the country where you live, is there a law ...          No         16   \n",
       "\n",
       "  notes  \n",
       "0   NaN  \n",
       "1   NaN  \n",
       "2   NaN  \n",
       "3   NaN  \n",
       "4   NaN  "
      ]
     },
     "execution_count": 29,
     "metadata": {},
     "output_type": "execute_result"
    }
   ],
   "source": [
    "import numpy as np\n",
    "import pandas as pd\n",
    "import matplotlib.pyplot as plt\n",
    "import researchpy as rp\n",
    "import scipy.stats as stats\n",
    "\n",
    "df = pd.read_csv(\"LGBT_Survey_RightsAwareness.csv\")\n",
    "\n",
    "df.head()"
   ]
  },
  {
   "cell_type": "markdown",
   "id": "7f0fc1bd",
   "metadata": {},
   "source": [
    "The dataset was cleaned of any null values using the ``.dropna`` function to assure the accuracy of the dataset"
   ]
  },
  {
   "cell_type": "code",
   "execution_count": 49,
   "id": "58796852",
   "metadata": {},
   "outputs": [
    {
     "data": {
      "text/html": [
       "<div>\n",
       "<style scoped>\n",
       "    .dataframe tbody tr th:only-of-type {\n",
       "        vertical-align: middle;\n",
       "    }\n",
       "\n",
       "    .dataframe tbody tr th {\n",
       "        vertical-align: top;\n",
       "    }\n",
       "\n",
       "    .dataframe thead th {\n",
       "        text-align: right;\n",
       "    }\n",
       "</style>\n",
       "<table border=\"1\" class=\"dataframe\">\n",
       "  <thead>\n",
       "    <tr style=\"text-align: right;\">\n",
       "      <th></th>\n",
       "      <th>CountryCode</th>\n",
       "      <th>subset</th>\n",
       "      <th>question_code</th>\n",
       "      <th>question_label</th>\n",
       "      <th>answer</th>\n",
       "      <th>percentage</th>\n",
       "      <th>notes</th>\n",
       "    </tr>\n",
       "  </thead>\n",
       "  <tbody>\n",
       "    <tr>\n",
       "      <th>16</th>\n",
       "      <td>Belgium</td>\n",
       "      <td>Lesbian</td>\n",
       "      <td>d1</td>\n",
       "      <td>In the country where you live, is there a law ...</td>\n",
       "      <td>No</td>\n",
       "      <td>4</td>\n",
       "      <td>[0]</td>\n",
       "    </tr>\n",
       "    <tr>\n",
       "      <th>22</th>\n",
       "      <td>Belgium</td>\n",
       "      <td>Bisexual women</td>\n",
       "      <td>d1</td>\n",
       "      <td>In the country where you live, is there a law ...</td>\n",
       "      <td>No</td>\n",
       "      <td>6</td>\n",
       "      <td>[0]</td>\n",
       "    </tr>\n",
       "    <tr>\n",
       "      <th>25</th>\n",
       "      <td>Belgium</td>\n",
       "      <td>Bisexual men</td>\n",
       "      <td>d1</td>\n",
       "      <td>In the country where you live, is there a law ...</td>\n",
       "      <td>No</td>\n",
       "      <td>9</td>\n",
       "      <td>[0]</td>\n",
       "    </tr>\n",
       "    <tr>\n",
       "      <th>28</th>\n",
       "      <td>Belgium</td>\n",
       "      <td>Transgender</td>\n",
       "      <td>d1</td>\n",
       "      <td>In the country where you live, is there a law ...</td>\n",
       "      <td>No</td>\n",
       "      <td>9</td>\n",
       "      <td>[0]</td>\n",
       "    </tr>\n",
       "    <tr>\n",
       "      <th>40</th>\n",
       "      <td>Bulgaria</td>\n",
       "      <td>Bisexual men</td>\n",
       "      <td>d1</td>\n",
       "      <td>In the country where you live, is there a law ...</td>\n",
       "      <td>No</td>\n",
       "      <td>20</td>\n",
       "      <td>[0]</td>\n",
       "    </tr>\n",
       "  </tbody>\n",
       "</table>\n",
       "</div>"
      ],
      "text/plain": [
       "   CountryCode          subset question_code  \\\n",
       "16     Belgium         Lesbian            d1   \n",
       "22     Belgium  Bisexual women            d1   \n",
       "25     Belgium    Bisexual men            d1   \n",
       "28     Belgium     Transgender            d1   \n",
       "40    Bulgaria    Bisexual men            d1   \n",
       "\n",
       "                                       question_label answer percentage notes  \n",
       "16  In the country where you live, is there a law ...     No          4   [0]  \n",
       "22  In the country where you live, is there a law ...     No          6   [0]  \n",
       "25  In the country where you live, is there a law ...     No          9   [0]  \n",
       "28  In the country where you live, is there a law ...     No          9   [0]  \n",
       "40  In the country where you live, is there a law ...     No         20   [0]  "
      ]
     },
     "execution_count": 49,
     "metadata": {},
     "output_type": "execute_result"
    }
   ],
   "source": [
    "df_clean = df.dropna()\n",
    "df_clean.head()"
   ]
  },
  {
   "cell_type": "markdown",
   "id": "62af7e5f",
   "metadata": {},
   "source": [
    "# Survey Questionnaire"
   ]
  },
  {
   "cell_type": "markdown",
   "id": "ec68dd27",
   "metadata": {},
   "source": [
    "The following is the complete questionnaire sent to the respondents. "
   ]
  },
  {
   "cell_type": "code",
   "execution_count": 7,
   "id": "d8e2f8a3",
   "metadata": {},
   "outputs": [
    {
     "name": "stdout",
     "output_type": "stream",
     "text": [
      "['In the country where you live, is there a law that forbids discrimination against persons because of their sexual orientation when applying for a job?'\n",
      " 'In the country where you live, is there a law that forbids discrimination against persons because of their gender identity when applying for a job?'\n",
      " 'Do you know of any organisation in the country where you live that can offer support or advice to people who have been discriminated against because they are Lesbian?'\n",
      " 'Do you know of any organisation in the country where you live that can offer support or advice to people who have been discriminated against because they are Gay?'\n",
      " 'Do you know of any organisation in the country where you live that can offer support or advice to people who have been discriminated against because they are Bisexual?'\n",
      " 'Do you know of any organisation in the country where you live that can offer support or advice to people who have been discriminated against because they are Transgender?'\n",
      " 'In the country where you live, have you ever seen any programme or awareness campaign by either the government or a non-governmental organisation addressing - Discrimination against gay, lesbian and bisexual people?'\n",
      " 'In the country where you live, have you ever seen any programme or awareness campaign by either the government or a non-governmental organisation addressing - Discrimination against transgender people?'\n",
      " 'In the country where you live, have you ever seen any programme or awareness campaign by either the government or a non-governmental organisation addressing - Discrimination on the basis of gender?'\n",
      " 'As far as you know, can same-sex couples legally marry and/or enter registered partnerships in the country where you live?']\n"
     ]
    }
   ],
   "source": [
    "questions = df_clean.loc[:, 'question_label']\n",
    "q_uni = questions.unique()\n",
    "\n",
    "print(q_uni)\n"
   ]
  },
  {
   "cell_type": "markdown",
   "id": "c1655900",
   "metadata": {},
   "source": [
    "For brevity of this report, the writer has only focused on the first two questions (tagged as `d1` and `d2` in the dataset)."
   ]
  },
  {
   "cell_type": "markdown",
   "id": "9483dc0c",
   "metadata": {},
   "source": [
    "# Demographic of the Sample"
   ]
  },
  {
   "cell_type": "markdown",
   "id": "259421c1",
   "metadata": {},
   "source": [
    "The following are the total respondents based on their subsets within the LGBTQIA+ community. Bisexual Men "
   ]
  },
  {
   "cell_type": "code",
   "execution_count": 19,
   "id": "b91d920c",
   "metadata": {},
   "outputs": [
    {
     "name": "stdout",
     "output_type": "stream",
     "text": [
      "Bisexual men      32\n",
      "Transgender       29\n",
      "Bisexual women    22\n",
      "Lesbian            9\n",
      "Name: subset, dtype: int64\n"
     ]
    },
    {
     "data": {
      "image/png": "[encoded data removed]",
      "text/plain": [
       "<Figure size 640x480 with 1 Axes>"
      ]
     },
     "metadata": {},
     "output_type": "display_data"
    }
   ],
   "source": [
    "df_clean = df.dropna()\n",
    "comm_df = df_clean.loc[df['question_code'] == 'd1']\n",
    "\n",
    "comm_x = [\"Bisexual Men\", \"Transgender\", \"Bisexual Women\", \"Lesbian\"]\n",
    "comm_y = comm_df.loc[:,'subset'].value_counts()\n",
    "comm_colors = ['midnightblue','skyblue','indigo','deeppink',]\n",
    "\n",
    "def comm_pi() :     \n",
    "    plt.pie(\n",
    "        x = comm_y, \n",
    "        labels = comm_x, \n",
    "        colors=comm_colors,\n",
    "        autopct='%1.1f%%'\n",
    "    )\n",
    "\n",
    "print(comm_y)\n",
    "comm_pi()"
   ]
  },
  {
   "cell_type": "code",
   "execution_count": 20,
   "id": "c7a40361",
   "metadata": {},
   "outputs": [
    {
     "name": "stdout",
     "output_type": "stream",
     "text": [
      "Cyprus            12\n",
      "Luxembourg        11\n",
      "Malta              9\n",
      "Slovenia           8\n",
      "Estonia            7\n",
      "Latvia             7\n",
      "Lithuania          5\n",
      "Sweden             4\n",
      "Belgium            4\n",
      "Ireland            4\n",
      "Denmark            4\n",
      "Finland            3\n",
      "Netherlands        3\n",
      "Czech Republic     3\n",
      "Croatia            2\n",
      "Slovakia           2\n",
      "Bulgaria           1\n",
      "Portugal           1\n",
      "Romania            1\n",
      "United Kingdom     1\n",
      "Name: CountryCode, dtype: int64\n"
     ]
    },
    {
     "data": {
      "image/png": "[encoded data removed]",
      "text/plain": [
       "<Figure size 640x480 with 1 Axes>"
      ]
     },
     "metadata": {},
     "output_type": "display_data"
    }
   ],
   "source": [
    "import pandas as pd\n",
    "import matplotlib.pyplot as plt\n",
    "\n",
    "df = pd.read_csv(\"LGBT_Survey_RightsAwareness.csv\")\n",
    "df_clean = df.dropna()\n",
    "\n",
    "country_df = df_clean.loc[df['question_code'] == 'd1']\n",
    "country_x = [\"Cyprus\", \"Luxemborg\", \"Malta\",\n",
    "            \"Slovenia\", \"Estonia\", \"Latvia\",\n",
    "            \"Lithuania\", \"Sweden\", \"Belgium\",\n",
    "            \"Ireland\", \"Denmark\", \"Finland\",\n",
    "            \"Netherlands\", \"Czech Republic\", \"Croatia\",\n",
    "            \"Slovakia\", \"Bulgaria\", \"Portugal\", \"Romania\",\n",
    "            \"United Kingdom\"]\n",
    "country_y = country_df.loc[:,'CountryCode'].value_counts()\n",
    "\n",
    "\n",
    "def country_pie() : \n",
    "    plt.pie(country_y, labels = country_x, autopct='%1.1f%%', textprops={'fontsize': 5})\n",
    "    \n",
    "print(country_y)\n",
    "country_pie()"
   ]
  },
  {
   "cell_type": "markdown",
   "id": "710d94f5",
   "metadata": {},
   "source": [
    "# On Workplace Discrimination"
   ]
  },
  {
   "cell_type": "code",
   "execution_count": 26,
   "id": "66704dbc",
   "metadata": {},
   "outputs": [
    {
     "name": "stdout",
     "output_type": "stream",
     "text": [
      "No            55\n",
      "Don`t know    19\n",
      "Yes           18\n",
      "Name: answer, dtype: int64\n"
     ]
    },
    {
     "data": {
      "image/png": "[encoded data removed]",
      "text/plain": [
       "<Figure size 640x480 with 1 Axes>"
      ]
     },
     "metadata": {},
     "output_type": "display_data"
    }
   ],
   "source": [
    "job_disc_2 = df_clean.loc[df['question_code'] == 'd1']\n",
    "job_disc_a2 = job_disc_2.loc[:,'answer'].value_counts()\n",
    "job_disc_l2 = [\"No\", \"Don't Know\", \"Yes\"]\n",
    "colors = [\"Red\", \"Grey\", \"Green\"]\n",
    "\n",
    "def job_disc1() :\n",
    "    plt.bar(job_disc_l2, job_disc_a2, color=colors, width=0.4)\n",
    "    plt.xlabel(\"Response\", fontsize=18)\n",
    "    plt.ylabel(\"Count\", fontsize=16)\n",
    "    plt.show()\n",
    "    \n",
    "print(job_disc_a2)\n",
    "job_disc1()"
   ]
  },
  {
   "cell_type": "code",
   "execution_count": 35,
   "id": "1c7d5e59",
   "metadata": {},
   "outputs": [
    {
     "name": "stdout",
     "output_type": "stream",
     "text": [
      "No            41\n",
      "Yes           19\n",
      "Don`t know    17\n",
      "Name: answer, dtype: int64\n"
     ]
    },
    {
     "data": {
      "image/png": "[encoded data removed]",
      "text/plain": [
       "<Figure size 640x480 with 1 Axes>"
      ]
     },
     "metadata": {},
     "output_type": "display_data"
    }
   ],
   "source": [
    "job_disc_3 = df_clean.loc[df['question_code'] == 'd2']\n",
    "job_disc_a3 = job_disc_3.loc[:,'answer'].value_counts()\n",
    "job_disc_l3 = [\"No\", \"Yes\", \"Don't Know\"]\n",
    "colors = [\"Red\", \"Green\", \"Grey\"]\n",
    "\n",
    "def job_disc1() :\n",
    "    plt.bar(job_disc_l3, job_disc_a3, color=colors, width=0.4)\n",
    "    plt.xlabel(\"Response\", fontsize=18)\n",
    "    plt.ylabel(\"Count\", fontsize=16)\n",
    "    plt.show()\n",
    "    \n",
    "print(job_disc_a3)\n",
    "job_disc1()"
   ]
  },
  {
   "cell_type": "markdown",
   "id": "15115442",
   "metadata": {},
   "source": [
    "# Correlation with Subset within LGBTQIA+ Community"
   ]
  },
  {
   "cell_type": "markdown",
   "id": "38bb4d58",
   "metadata": {},
   "source": [
    "After performing a cross-tabulation of the ``subset`` with the ``answer`` column of the dataframe (filtered only to answers under the question code `d1`), the writer has performed a Chi-Square test of Independence."
   ]
  },
  {
   "cell_type": "markdown",
   "id": "829b44ef",
   "metadata": {},
   "source": [
    "**Hypotheses**\n",
    "<br>\n",
    "$H_{0}$ = There is no correlation between the perception of the respondents regarding laws protecting discrimination against their sexual orientation and their subset within the LGBTQIA+ community.\n",
    "<br>\n",
    "$H_{a}$ = There is a correlation between the perception of the respondents regarding laws protecting discrimination against their sexual orientation and their subset within the LGBTQIA+ community.\n",
    "<br>\n",
    "$p-value = 0.05$"
   ]
  },
  {
   "cell_type": "code",
   "execution_count": 6,
   "id": "45f14359",
   "metadata": {},
   "outputs": [
    {
     "name": "stdout",
     "output_type": "stream",
     "text": [
      "answer          Don`t know  No  Yes\n",
      "subset                             \n",
      "Bisexual men             8  18    6\n",
      "Bisexual women           3  16    3\n",
      "Lesbian                  1   6    2\n",
      "Transgender              7  15    7\n",
      " \n",
      "Chi2ContingencyResult(statistic=3.2028929878817136, pvalue=0.7829846084478523, dof=6, expected_freq=array([[ 6.60869565, 19.13043478,  6.26086957],\n",
      "       [ 4.54347826, 13.15217391,  4.30434783],\n",
      "       [ 1.85869565,  5.38043478,  1.76086957],\n",
      "       [ 5.98913043, 17.33695652,  5.67391304]]))\n"
     ]
    }
   ],
   "source": [
    "import numpy as np\n",
    "import pandas as pd\n",
    "import matplotlib.pyplot as plt\n",
    "import researchpy as rp\n",
    "import scipy.stats as stats\n",
    "\n",
    "df = pd.read_csv(\"LGBT_Survey_RightsAwareness.csv\")\n",
    "df_clean = df.dropna()\n",
    "d1_df = df_clean.loc[df['question_code'] == 'd1']\n",
    "ctab1 = pd.crosstab(d1_df.subset, d1_df.answer)\n",
    "ctab1_cs = stats.chi2_contingency(ctab1)\n",
    "\n",
    "print(ctab1)\n",
    "print(\" \")\n",
    "print(ctab1_cs)"
   ]
  },
  {
   "cell_type": "markdown",
   "id": "784d83ea",
   "metadata": {},
   "source": [
    "As findings show that the responses in `d1` have a $p-value$ of $0.78$, the null hypothesis is thus rejected. Therefore, there is a correlation between the perception of the respondents regarding laws protecting discrimination against their sexual orientation and their subset withing the LGBTQIA+ community."
   ]
  },
  {
   "cell_type": "markdown",
   "id": "c5eeb19c",
   "metadata": {},
   "source": [
    "We then performed a cross-tabulation of the ``subset`` with the ``answer`` column of the dataframe filtered only to answers under the question code `d2` and performed the same procedures."
   ]
  },
  {
   "cell_type": "markdown",
   "id": "3909291d",
   "metadata": {},
   "source": [
    "**Hypotheses**\n",
    "<br>\n",
    "$H_{0}$ = There is no correlation between the perception of the respondents regarding laws protecting discrimination against their gender identity and their subset within the LGBTQIA+ community.\n",
    "<br>\n",
    "$H_{a}$ = There is a correlation between the perception of the respondents regarding laws protecting discrimination against their gender identity and their subset within the LGBTQIA+ community.\n",
    "<br>\n",
    "$p-value = 0.05$"
   ]
  },
  {
   "cell_type": "code",
   "execution_count": 7,
   "id": "a790c1c6",
   "metadata": {},
   "outputs": [
    {
     "name": "stdout",
     "output_type": "stream",
     "text": [
      "answer          Don`t know  No  Yes\n",
      "subset                             \n",
      "Bisexual men             6  17    6\n",
      "Bisexual women           3  14    4\n",
      "Lesbian                  1   3    2\n",
      "Transgender              7   7    7\n",
      " \n",
      "Chi2ContingencyResult(statistic=5.607260743259722, pvalue=0.46858874115444327, dof=6, expected_freq=array([[ 6.4025974 , 15.44155844,  7.15584416],\n",
      "       [ 4.63636364, 11.18181818,  5.18181818],\n",
      "       [ 1.32467532,  3.19480519,  1.48051948],\n",
      "       [ 4.63636364, 11.18181818,  5.18181818]]))\n"
     ]
    }
   ],
   "source": [
    "df = pd.read_csv(\"LGBT_Survey_RightsAwareness.csv\")\n",
    "df_clean = df.dropna()\n",
    "d2_df = df_clean.loc[df['question_code'] == 'd2']\n",
    "ctab2 = pd.crosstab(d2_df.subset, d2_df.answer)\n",
    "ctab2_cs = stats.chi2_contingency(ctab2)\n",
    "\n",
    "print(ctab2)\n",
    "print(\" \")\n",
    "print(ctab2_cs)"
   ]
  },
  {
   "cell_type": "markdown",
   "id": "8c97f152",
   "metadata": {},
   "source": [
    "As findings show that the responses in `d2` have a $p-value$ of $0.46$, the null hypothesis is thus rejected. Therefore, there is a correlation between the perception of the respondents regarding laws protecting discrimination against their gender identity and their subset withing the LGBTQIA+ community."
   ]
  },
  {
   "cell_type": "markdown",
   "id": "e1efe478",
   "metadata": {},
   "source": [
    "# Correlation with Country of Origin"
   ]
  },
  {
   "cell_type": "markdown",
   "id": "98d6b22d",
   "metadata": {},
   "source": [
    "After performing a cross-tabulation of the ``CountryCode`` with the ``answer`` column of the dataframe (filtered only to answers under the question code `d1`), the writer has performed a Chi-Square test of Independence."
   ]
  },
  {
   "cell_type": "markdown",
   "id": "8b55aee6",
   "metadata": {},
   "source": [
    "**Hypotheses**\n",
    "<br>\n",
    "$H_{0}$ = There is no correlation between the perception of the respondents regarding laws protecting discrimination against their sexual orientation and their country of origin.\n",
    "<br>\n",
    "$H_{a}$ = There is a correlation between the perception of the respondents regarding laws protecting discrimination against their sexual orientation and their country of origin.\n",
    "<br>\n",
    "$p-value = 0.05$"
   ]
  },
  {
   "cell_type": "code",
   "execution_count": 10,
   "id": "5936d88c",
   "metadata": {},
   "outputs": [
    {
     "name": "stdout",
     "output_type": "stream",
     "text": [
      "answer          Don`t know  No  Yes\n",
      "CountryCode                        \n",
      "Belgium                  0   4    0\n",
      "Bulgaria                 0   1    0\n",
      "Croatia                  0   2    0\n",
      "Cyprus                   4   4    4\n",
      "Czech Republic           0   3    0\n",
      "Denmark                  1   3    0\n",
      "Estonia                  2   3    2\n",
      "Finland                  0   3    0\n",
      "Ireland                  1   3    0\n",
      "Latvia                   2   3    2\n",
      "Lithuania                1   3    1\n",
      "Luxembourg               3   4    4\n",
      "Malta                    3   3    3\n",
      "Netherlands              0   3    0\n",
      "Portugal                 0   1    0\n",
      "Romania                  0   1    0\n",
      "Slovakia                 0   2    0\n",
      "Slovenia                 2   4    2\n",
      "Sweden                   0   4    0\n",
      "United Kingdom           0   1    0\n",
      " \n",
      "Chi2ContingencyResult(statistic=29.72285102103284, pvalue=0.8291200485430188, dof=38, expected_freq=array([[0.82608696, 2.39130435, 0.7826087 ],\n",
      "       [0.20652174, 0.59782609, 0.19565217],\n",
      "       [0.41304348, 1.19565217, 0.39130435],\n",
      "       [2.47826087, 7.17391304, 2.34782609],\n",
      "       [0.61956522, 1.79347826, 0.58695652],\n",
      "       [0.82608696, 2.39130435, 0.7826087 ],\n",
      "       [1.44565217, 4.18478261, 1.36956522],\n",
      "       [0.61956522, 1.79347826, 0.58695652],\n",
      "       [0.82608696, 2.39130435, 0.7826087 ],\n",
      "       [1.44565217, 4.18478261, 1.36956522],\n",
      "       [1.0326087 , 2.98913043, 0.97826087],\n",
      "       [2.27173913, 6.57608696, 2.15217391],\n",
      "       [1.85869565, 5.38043478, 1.76086957],\n",
      "       [0.61956522, 1.79347826, 0.58695652],\n",
      "       [0.20652174, 0.59782609, 0.19565217],\n",
      "       [0.20652174, 0.59782609, 0.19565217],\n",
      "       [0.41304348, 1.19565217, 0.39130435],\n",
      "       [1.65217391, 4.7826087 , 1.56521739],\n",
      "       [0.82608696, 2.39130435, 0.7826087 ],\n",
      "       [0.20652174, 0.59782609, 0.19565217]]))\n"
     ]
    }
   ],
   "source": [
    "import numpy as np\n",
    "import pandas as pd\n",
    "import matplotlib.pyplot as plt\n",
    "import researchpy as rp\n",
    "import scipy.stats as stats\n",
    "\n",
    "df = pd.read_csv(\"LGBT_Survey_RightsAwareness.csv\")\n",
    "df_clean = df.dropna()\n",
    "d1_df = df_clean.loc[df['question_code'] == 'd1']\n",
    "ctab1a = pd.crosstab(d1_df.CountryCode, d1_df.answer)\n",
    "ctab1a_cs = stats.chi2_contingency(ctab1a)\n",
    "\n",
    "print(ctab1a)\n",
    "print(\" \")\n",
    "print(ctab1a_cs)"
   ]
  },
  {
   "cell_type": "markdown",
   "id": "08080bc9",
   "metadata": {},
   "source": [
    "As findings show that the responses in `d1` have a $p-value$ of $0.82$, the null hypothesis is thus rejected. Therefore, there is a correlation between the perception of the respondents regarding laws protecting discrimination against their sexual orientation and their country of origin."
   ]
  },
  {
   "cell_type": "markdown",
   "id": "3710bcec",
   "metadata": {},
   "source": [
    "We then performed a cross-tabulation of the ``CountryCode`` with the ``answer`` column of the dataframe filtered only to answers under the question code `d2` and performed the same procedures."
   ]
  },
  {
   "cell_type": "markdown",
   "id": "51c96a80",
   "metadata": {},
   "source": [
    "**Hypotheses**\n",
    "<br>\n",
    "$H_{0}$ = There is no correlation between the perception of the respondents regarding laws protecting discrimination against their gender identity and their country of origin.\n",
    "<br>\n",
    "$H_{a}$ = There is a correlation between the perception of the respondents regarding laws protecting discrimination against their gender identity and their country of origin.\n",
    "<br>\n",
    "$p-value = 0.05$"
   ]
  },
  {
   "cell_type": "code",
   "execution_count": 11,
   "id": "4cea3069",
   "metadata": {},
   "outputs": [
    {
     "name": "stdout",
     "output_type": "stream",
     "text": [
      "answer          Don`t know  No  Yes\n",
      "CountryCode                        \n",
      "Austria                  0   1    0\n",
      "Belgium                  0   3    0\n",
      "Bulgaria                 0   1    0\n",
      "Croatia                  0   2    0\n",
      "Cyprus                   4   4    4\n",
      "Denmark                  0   2    0\n",
      "Estonia                  2   3    2\n",
      "Finland                  0   1    0\n",
      "Ireland                  0   1    0\n",
      "Latvia                   2   3    2\n",
      "Lithuania                1   3    1\n",
      "Luxembourg               3   4    4\n",
      "Malta                    3   3    3\n",
      "Netherlands              0   1    0\n",
      "Romania                  0   1    1\n",
      "Slovakia                 0   2    0\n",
      "Slovenia                 2   3    2\n",
      "Sweden                   0   2    0\n",
      "United Kingdom           0   1    0\n",
      " \n",
      "Chi2ContingencyResult(statistic=21.68425079916434, pvalue=0.9713975834877007, dof=36, expected_freq=array([[0.22077922, 0.53246753, 0.24675325],\n",
      "       [0.66233766, 1.5974026 , 0.74025974],\n",
      "       [0.22077922, 0.53246753, 0.24675325],\n",
      "       [0.44155844, 1.06493506, 0.49350649],\n",
      "       [2.64935065, 6.38961039, 2.96103896],\n",
      "       [0.44155844, 1.06493506, 0.49350649],\n",
      "       [1.54545455, 3.72727273, 1.72727273],\n",
      "       [0.22077922, 0.53246753, 0.24675325],\n",
      "       [0.22077922, 0.53246753, 0.24675325],\n",
      "       [1.54545455, 3.72727273, 1.72727273],\n",
      "       [1.1038961 , 2.66233766, 1.23376623],\n",
      "       [2.42857143, 5.85714286, 2.71428571],\n",
      "       [1.98701299, 4.79220779, 2.22077922],\n",
      "       [0.22077922, 0.53246753, 0.24675325],\n",
      "       [0.44155844, 1.06493506, 0.49350649],\n",
      "       [0.44155844, 1.06493506, 0.49350649],\n",
      "       [1.54545455, 3.72727273, 1.72727273],\n",
      "       [0.44155844, 1.06493506, 0.49350649],\n",
      "       [0.22077922, 0.53246753, 0.24675325]]))\n"
     ]
    }
   ],
   "source": [
    "df = pd.read_csv(\"LGBT_Survey_RightsAwareness.csv\")\n",
    "df_clean = df.dropna()\n",
    "d2_df = df_clean.loc[df['question_code'] == 'd2']\n",
    "ctab2a = pd.crosstab(d2_df.CountryCode, d2_df.answer)\n",
    "ctab2a_cs = stats.chi2_contingency(ctab2a)\n",
    "\n",
    "print(ctab2a)\n",
    "print(\" \")\n",
    "print(ctab2a_cs)"
   ]
  },
  {
   "cell_type": "markdown",
   "id": "ec37a6cc",
   "metadata": {},
   "source": [
    "As findings show that the responses in `d2` have a $p-value$ of $0.97$, the null hypothesis is thus rejected. Therefore, there is a correlation between the perception of the respondents regarding laws protecting discrimination against their gender identity and their country of origin."
   ]
  },
  {
   "cell_type": "markdown",
   "id": "e65ae1bc",
   "metadata": {},
   "source": [
    "# Conclusion"
   ]
  },
  {
   "cell_type": "markdown",
   "id": "7ba6baa2",
   "metadata": {},
   "source": [
    "Selected LGBTQIA+ residents within the EU have expressed that there is a lack of legal protection for them when it comes to the workplace discrimination. These perceptions are influenced depending on their subset and their country of origin."
   ]
  }
 ],
 "metadata": {
  "kernelspec": {
   "display_name": "Python 3 (ipykernel)",
   "language": "python",
   "name": "python3"
  },
  "language_info": {
   "codemirror_mode": {
    "name": "ipython",
    "version": 3
   },
   "file_extension": ".py",
   "mimetype": "text/x-python",
   "name": "python",
   "nbconvert_exporter": "python",
   "pygments_lexer": "ipython3",
   "version": "3.10.9"
  }
 },
 "nbformat": 4,
 "nbformat_minor": 5
}
