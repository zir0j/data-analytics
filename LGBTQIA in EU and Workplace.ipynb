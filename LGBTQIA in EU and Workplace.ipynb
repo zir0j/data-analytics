{
 "cells": [
  {
   "cell_type": "markdown",
   "id": "f8a951d7",
   "metadata": {},
   "source": [
    "# Disclaimer"
   ]
  },
  {
   "cell_type": "markdown",
   "id": "2f22fb0e",
   "metadata": {},
   "source": [
    "This is a **practice notebook** that I did as a way to refresh myself with ``numpy``, ``pandas``, and ``scipy.stats``. This is in **NO WAY A VALID STUDY**. The dataset was downloaded from Kaggle and as created by [ruslankl](https://www.kaggle.com/datasets/ruslankl/european-union-lgbt-survey-2012). Methodology of the said survey is found [here](https://fra.europa.eu/sites/default/files/eu-lgbt-survey-technical-report_en.pdf). Again, this entire notebook is **NO WAY A VALID STUDY**. This was msostly done for personal practice and upskilling."
   ]
  },
  {
   "cell_type": "markdown",
   "id": "a5a64749",
   "metadata": {},
   "source": [
    "# Introduction"
   ]
  },
  {
   "cell_type": "markdown",
   "id": "604e67dc",
   "metadata": {},
   "source": [
    "![Demonstrators waved rainbow and EU flags](https://ichef.bbci.co.uk/news/976/cpsprodpb/11C15/production/_89952727_89952694.jpg.webp)\n",
    "\n",
    "The LGBTQIA+ community continues to fight for their rights across parts of the world as it affects aspects of their lives. From Healthcare to Marriage, these sectors do not cater to the community at large. An unspoken aspect of queer and trans lives that is not spoken about is Employment. Many queer and trans people face discrimination in their lives. This is not new to countries inside the European Union (EU). Hence, this data report examined the following questions:\n",
    "\n",
    "1. Is there any legal provision providing safety against discrimination in Employment for the LGBTQIA+ community within the EU?\n",
    "2. Are the responses of the respondents correlated to their subset within the LGBTQIA+ community within the EU?\n",
    "3. Are the responses of the respondents correlated to their country of origin within the EU?"
   ]
  },
  {
   "cell_type": "markdown",
   "id": "25393701",
   "metadata": {},
   "source": [
    "# Dataset and Libraries used"
   ]
  },
  {
   "cell_type": "markdown",
   "id": "5de4f57e",
   "metadata": {},
   "source": [
    "The main language used to analyze the data is Python. Using the libraries ``numpy``, ``pandas``, and ``matplotlib.pyplot``, the writer can get a descriptive analysis of the dataset ``LGBT_Survey_RightsAwareness.csv``. Likewise, the ``researchpy`` library and the ``scipy.stats`` library were imported to gather an inferential analysis of the dataset."
   ]
  },
  {
   "cell_type": "code",
   "execution_count": 3,
   "id": "4a4e3510",
   "metadata": {},
   "outputs": [
    {
     "data": {
      "text/html": [
       "<div>\n",
       "<style scoped>\n",
       "    .dataframe tbody tr th:only-of-type {\n",
       "        vertical-align: middle;\n",
       "    }\n",
       "\n",
       "    .dataframe tbody tr th {\n",
       "        vertical-align: top;\n",
       "    }\n",
       "\n",
       "    .dataframe thead th {\n",
       "        text-align: right;\n",
       "    }\n",
       "</style>\n",
       "<table border=\"1\" class=\"dataframe\">\n",
       "  <thead>\n",
       "    <tr style=\"text-align: right;\">\n",
       "      <th></th>\n",
       "      <th>CountryCode</th>\n",
       "      <th>subset</th>\n",
       "      <th>question_code</th>\n",
       "      <th>question_label</th>\n",
       "      <th>answer</th>\n",
       "      <th>percentage</th>\n",
       "      <th>notes</th>\n",
       "    </tr>\n",
       "  </thead>\n",
       "  <tbody>\n",
       "    <tr>\n",
       "      <th>0</th>\n",
       "      <td>Austria</td>\n",
       "      <td>Lesbian</td>\n",
       "      <td>d1</td>\n",
       "      <td>In the country where you live, is there a law ...</td>\n",
       "      <td>Yes</td>\n",
       "      <td>53</td>\n",
       "      <td>NaN</td>\n",
       "    </tr>\n",
       "    <tr>\n",
       "      <th>1</th>\n",
       "      <td>Austria</td>\n",
       "      <td>Lesbian</td>\n",
       "      <td>d1</td>\n",
       "      <td>In the country where you live, is there a law ...</td>\n",
       "      <td>No</td>\n",
       "      <td>10</td>\n",
       "      <td>NaN</td>\n",
       "    </tr>\n",
       "    <tr>\n",
       "      <th>2</th>\n",
       "      <td>Austria</td>\n",
       "      <td>Lesbian</td>\n",
       "      <td>d1</td>\n",
       "      <td>In the country where you live, is there a law ...</td>\n",
       "      <td>Don`t know</td>\n",
       "      <td>37</td>\n",
       "      <td>NaN</td>\n",
       "    </tr>\n",
       "    <tr>\n",
       "      <th>3</th>\n",
       "      <td>Austria</td>\n",
       "      <td>Gay</td>\n",
       "      <td>d1</td>\n",
       "      <td>In the country where you live, is there a law ...</td>\n",
       "      <td>Yes</td>\n",
       "      <td>45</td>\n",
       "      <td>NaN</td>\n",
       "    </tr>\n",
       "    <tr>\n",
       "      <th>4</th>\n",
       "      <td>Austria</td>\n",
       "      <td>Gay</td>\n",
       "      <td>d1</td>\n",
       "      <td>In the country where you live, is there a law ...</td>\n",
       "      <td>No</td>\n",
       "      <td>16</td>\n",
       "      <td>NaN</td>\n",
       "    </tr>\n",
       "  </tbody>\n",
       "</table>\n",
       "</div>"
      ],
      "text/plain": [
       "  CountryCode   subset question_code  \\\n",
       "0     Austria  Lesbian            d1   \n",
       "1     Austria  Lesbian            d1   \n",
       "2     Austria  Lesbian            d1   \n",
       "3     Austria      Gay            d1   \n",
       "4     Austria      Gay            d1   \n",
       "\n",
       "                                      question_label      answer percentage  \\\n",
       "0  In the country where you live, is there a law ...         Yes         53   \n",
       "1  In the country where you live, is there a law ...          No         10   \n",
       "2  In the country where you live, is there a law ...  Don`t know         37   \n",
       "3  In the country where you live, is there a law ...         Yes         45   \n",
       "4  In the country where you live, is there a law ...          No         16   \n",
       "\n",
       "  notes  \n",
       "0   NaN  \n",
       "1   NaN  \n",
       "2   NaN  \n",
       "3   NaN  \n",
       "4   NaN  "
      ]
     },
     "execution_count": 3,
     "metadata": {},
     "output_type": "execute_result"
    }
   ],
   "source": [
    "import numpy as np\n",
    "import pandas as pd\n",
    "import matplotlib.pyplot as plt\n",
    "import researchpy as rp\n",
    "import scipy.stats as stats\n",
    "\n",
    "df = pd.read_csv(\"LGBT_Survey_RightsAwareness.csv\")\n",
    "\n",
    "df.head()"
   ]
  },
  {
   "cell_type": "markdown",
   "id": "62af7e5f",
   "metadata": {},
   "source": [
    "# Survey Questionnaire"
   ]
  },
  {
   "cell_type": "markdown",
   "id": "ec68dd27",
   "metadata": {},
   "source": [
    "The following is the complete questionnaire sent to the respondents. "
   ]
  },
  {
   "cell_type": "code",
   "execution_count": 4,
   "id": "d8e2f8a3",
   "metadata": {},
   "outputs": [
    {
     "name": "stdout",
     "output_type": "stream",
     "text": [
      "['In the country where you live, is there a law that forbids discrimination against persons because of their sexual orientation when applying for a job?'\n",
      " 'In the country where you live, is there a law that forbids discrimination against persons because of their gender identity when applying for a job?'\n",
      " 'Do you know of any organisation in the country where you live that can offer support or advice to people who have been discriminated against because they are Lesbian?'\n",
      " 'Do you know of any organisation in the country where you live that can offer support or advice to people who have been discriminated against because they are Gay?'\n",
      " 'Do you know of any organisation in the country where you live that can offer support or advice to people who have been discriminated against because they are Bisexual?'\n",
      " 'Do you know of any organisation in the country where you live that can offer support or advice to people who have been discriminated against because they are Transgender?'\n",
      " 'In the country where you live, have you ever seen any programme or awareness campaign by either the government or a non-governmental organisation addressing - Discrimination against gay, lesbian and bisexual people?'\n",
      " 'In the country where you live, have you ever seen any programme or awareness campaign by either the government or a non-governmental organisation addressing - Discrimination against transgender people?'\n",
      " 'In the country where you live, have you ever seen any programme or awareness campaign by either the government or a non-governmental organisation addressing - Discrimination on the basis of gender?'\n",
      " 'As far as you know, can same-sex couples legally marry and/or enter registered partnerships in the country where you live?']\n"
     ]
    }
   ],
   "source": [
    "questions = df.loc[:, 'question_label']\n",
    "q_uni = questions.unique()\n",
    "\n",
    "print(q_uni)"
   ]
  },
  {
   "cell_type": "markdown",
   "id": "c1655900",
   "metadata": {},
   "source": [
    "For brevity of this report, the writer has only focused on the first two questions (tagged as `d1` and `d2` in the dataset)."
   ]
  },
  {
   "cell_type": "markdown",
   "id": "9483dc0c",
   "metadata": {},
   "source": [
    "# Demographic of the Sample"
   ]
  },
  {
   "cell_type": "markdown",
   "id": "259421c1",
   "metadata": {},
   "source": [
    "The following are the total respondents based on their subsets within the LGBTQIA+ community."
   ]
  },
  {
   "cell_type": "code",
   "execution_count": 27,
   "id": "b91d920c",
   "metadata": {},
   "outputs": [
    {
     "name": "stdout",
     "output_type": "stream",
     "text": [
      "Lesbian           87\n",
      "Gay               87\n",
      "Bisexual women    87\n",
      "Bisexual men      87\n",
      "Transgender       87\n",
      "Name: subset, dtype: int64\n"
     ]
    },
    {
     "data": {
      "image/png": "[encoded data removed]",
      "text/plain": [
       "<Figure size 640x480 with 1 Axes>"
      ]
     },
     "metadata": {},
     "output_type": "display_data"
    }
   ],
   "source": [
    "comm_df = df.loc[df['question_code'] == 'd1']\n",
    "comm_x = comm_df.loc[:,'subset'].unique()\n",
    "comm_y = comm_df.loc[:,'subset'].value_counts()\n",
    "comm_colors = [\"deeppink\",\"g\",\"indigo\",\"blue\",\"skyblue\"]\n",
    "\n",
    "def comm_pie():\n",
    "    plt.pie(comm_y, labels=comm_x, autopct='%1.1f%%', colors=comm_colors)\n",
    "\n",
    "print(comm_y)\n",
    "comm_pie()"
   ]
  },
  {
   "cell_type": "markdown",
   "id": "f994bc05",
   "metadata": {},
   "source": [
    "The following are the countries of origin of the respondents."
   ]
  },
  {
   "cell_type": "code",
   "execution_count": 26,
   "id": "c7a40361",
   "metadata": {},
   "outputs": [
    {
     "name": "stdout",
     "output_type": "stream",
     "text": [
      "Austria           15\n",
      "Italy             15\n",
      "United Kingdom    15\n",
      "Slovakia          15\n",
      "Slovenia          15\n",
      "Sweden            15\n",
      "Romania           15\n",
      "Portugal          15\n",
      "Poland            15\n",
      "Netherlands       15\n",
      "Malta             15\n",
      "Latvia            15\n",
      "Luxembourg        15\n",
      "Lithuania         15\n",
      "Ireland           15\n",
      "Belgium           15\n",
      "Hungary           15\n",
      "Croatia           15\n",
      "France            15\n",
      "Finland           15\n",
      "Spain             15\n",
      "Greece            15\n",
      "Estonia           15\n",
      "Denmark           15\n",
      "Germany           15\n",
      "Czech Republic    15\n",
      "Cyprus            15\n",
      "Bulgaria          15\n",
      "Average           15\n",
      "Name: CountryCode, dtype: int64\n"
     ]
    },
    {
     "data": {
      "image/png": "[encoded data removed]",
      "text/plain": [
       "<Figure size 640x480 with 1 Axes>"
      ]
     },
     "metadata": {},
     "output_type": "display_data"
    }
   ],
   "source": [
    "country_df = df.loc[df['question_code'] == 'd1']\n",
    "country_x = country_df.loc[:,'CountryCode'].unique()\n",
    "country_y = country_df.loc[:,'CountryCode'].value_counts()\n",
    "\n",
    "def country_pie():\n",
    "    plt.pie(country_y, labels=country_x, autopct='%1.1f%%', textprops={'fontsize': 5})\n",
    "\n",
    "print(country_y)\n",
    "country_pie()"
   ]
  },
  {
   "cell_type": "markdown",
   "id": "710d94f5",
   "metadata": {},
   "source": [
    "# On Workplace Discrimination"
   ]
  },
  {
   "cell_type": "markdown",
   "id": "a812153e",
   "metadata": {},
   "source": [
    "When asked about laws that forbids discrimination against persons because of their sexual orientation when applying for a job, this is the response of the respondents:"
   ]
  },
  {
   "cell_type": "code",
   "execution_count": 29,
   "id": "66704dbc",
   "metadata": {},
   "outputs": [
    {
     "name": "stdout",
     "output_type": "stream",
     "text": [
      "Yes           145\n",
      "No            145\n",
      "Don`t know    145\n",
      "Name: answer, dtype: int64\n"
     ]
    },
    {
     "data": {
      "image/png": "[encoded data removed]",
      "text/plain": [
       "<Figure size 640x480 with 1 Axes>"
      ]
     },
     "metadata": {},
     "output_type": "display_data"
    }
   ],
   "source": [
    "job_disc_2 = df.loc[df['question_code'] == 'd1']\n",
    "job_disc_a2 = job_disc_2.loc[:,'answer'].value_counts()\n",
    "job_disc_l2 = job_disc_2.loc[:,'answer'].unique()\n",
    "colors = [\"Green\", \"Red\", \"Grey\"]\n",
    "\n",
    "def job_disc1() :\n",
    "    plt.bar(job_disc_l2, job_disc_a2, color=colors, width=0.4)\n",
    "    plt.xlabel(\"Response\", fontsize=18)\n",
    "    plt.ylabel(\"Count\", fontsize=16)\n",
    "    plt.show()\n",
    "    \n",
    "print(job_disc_a2)\n",
    "job_disc1()"
   ]
  },
  {
   "cell_type": "markdown",
   "id": "d0114f2f",
   "metadata": {},
   "source": [
    "When asked about laws that forbids discrimination against persons because of their gender identity when applying for a job, this is the response of the respondents:"
   ]
  },
  {
   "cell_type": "code",
   "execution_count": 32,
   "id": "1c7d5e59",
   "metadata": {},
   "outputs": [
    {
     "name": "stdout",
     "output_type": "stream",
     "text": [
      "Yes           145\n",
      "No            145\n",
      "Don`t know    145\n",
      "Name: answer, dtype: int64\n"
     ]
    },
    {
     "data": {
      "image/png": "[encoded data removed]",
      "text/plain": [
       "<Figure size 640x480 with 1 Axes>"
      ]
     },
     "metadata": {},
     "output_type": "display_data"
    }
   ],
   "source": [
    "job_disc_3 = df.loc[df['question_code'] == 'd2']\n",
    "job_disc_a3 = job_disc_2.loc[:,'answer'].value_counts()\n",
    "job_disc_l3 = job_disc_2.loc[:,'answer'].unique()\n",
    "colors = [\"Green\", \"Red\", \"Grey\"]\n",
    "\n",
    "def job_disc2() :\n",
    "    plt.bar(job_disc_l3, job_disc_a3, color=colors, width=0.4)\n",
    "    plt.xlabel(\"Response\", fontsize=18)\n",
    "    plt.ylabel(\"Count\", fontsize=16)\n",
    "    plt.show()\n",
    "    \n",
    "print(job_disc_a3)\n",
    "job_disc2()"
   ]
  },
  {
   "cell_type": "markdown",
   "id": "15115442",
   "metadata": {},
   "source": [
    "# Correlation with Subset within LGBTQIA+ Community"
   ]
  },
  {
   "cell_type": "markdown",
   "id": "38bb4d58",
   "metadata": {},
   "source": [
    "After performing a cross-tabulation of the ``subset`` with the ``answer`` column of the dataframe (filtered only to answers under the question code `d1`), the writer has performed a Chi-Square test of Independence."
   ]
  },
  {
   "cell_type": "markdown",
   "id": "829b44ef",
   "metadata": {},
   "source": [
    "**Hypotheses**\n",
    "<br>\n",
    "$H_{0}$ = There is no correlation between the perception of the respondents regarding laws protecting discrimination against their sexual orientation and their subset within the LGBTQIA+ community.\n",
    "<br>\n",
    "$H_{a}$ = There is a correlation between the perception of the respondents regarding laws protecting discrimination against their sexual orientation and their subset within the LGBTQIA+ community.\n",
    "<br>\n",
    "$p-value = 0.05$"
   ]
  },
  {
   "cell_type": "code",
   "execution_count": 33,
   "id": "45f14359",
   "metadata": {},
   "outputs": [
    {
     "name": "stdout",
     "output_type": "stream",
     "text": [
      "answer          Don`t know  No  Yes\n",
      "subset                             \n",
      "Bisexual men            29  29   29\n",
      "Bisexual women          29  29   29\n",
      "Gay                     29  29   29\n",
      "Lesbian                 29  29   29\n",
      "Transgender             29  29   29\n",
      " \n",
      "Chi2ContingencyResult(statistic=0.0, pvalue=1.0, dof=8, expected_freq=array([[29., 29., 29.],\n",
      "       [29., 29., 29.],\n",
      "       [29., 29., 29.],\n",
      "       [29., 29., 29.],\n",
      "       [29., 29., 29.]]))\n"
     ]
    }
   ],
   "source": [
    "d1_df = df.loc[df['question_code'] == 'd1']\n",
    "ctab1 = pd.crosstab(d1_df.subset, d1_df.answer)\n",
    "ctab1_cs = stats.chi2_contingency(ctab1)\n",
    "\n",
    "print(ctab1)\n",
    "print(\" \")\n",
    "print(ctab1_cs)"
   ]
  },
  {
   "cell_type": "markdown",
   "id": "784d83ea",
   "metadata": {},
   "source": [
    "As findings show that the responses in `d1` have a $p-value$ of $1.0$, the null hypothesis is not rejected. Therefore, there is no correlation between the perception of the respondents regarding laws protecting discrimination against their sexual orientation and their subset withing the LGBTQIA+ community."
   ]
  },
  {
   "cell_type": "markdown",
   "id": "a5c2fd49",
   "metadata": {},
   "source": [
    "We then performed a cross-tabulation of the ``subset`` with the ``answer`` column of the dataframe filtered only to answers under the question code `d2` and performed the same procedures."
   ]
  },
  {
   "cell_type": "markdown",
   "id": "8b9dc7ed",
   "metadata": {},
   "source": [
    "**Hypotheses**\n",
    "<br>\n",
    "$H_{0}$ = There is no correlation between the perception of the respondents regarding laws protecting discrimination against their gender identity and their subset within the LGBTQIA+ community.\n",
    "<br>\n",
    "$H_{a}$ = There is a correlation between the perception of the respondents regarding laws protecting discrimination against their gender identity and their subset within the LGBTQIA+ community.\n",
    "<br>\n",
    "$p-value = 0.05$"
   ]
  },
  {
   "cell_type": "code",
   "execution_count": 34,
   "id": "f4e2ab97",
   "metadata": {},
   "outputs": [
    {
     "name": "stdout",
     "output_type": "stream",
     "text": [
      "answer          Don`t know  No  Yes\n",
      "subset                             \n",
      "Bisexual men            29  29   29\n",
      "Bisexual women          29  29   29\n",
      "Gay                     29  29   29\n",
      "Lesbian                 29  29   29\n",
      "Transgender             29  29   29\n",
      " \n",
      "Chi2ContingencyResult(statistic=0.0, pvalue=1.0, dof=8, expected_freq=array([[29., 29., 29.],\n",
      "       [29., 29., 29.],\n",
      "       [29., 29., 29.],\n",
      "       [29., 29., 29.],\n",
      "       [29., 29., 29.]]))\n"
     ]
    }
   ],
   "source": [
    "d2_df = df.loc[df['question_code'] == 'd2']\n",
    "ctab2 = pd.crosstab(d2_df.subset, d2_df.answer)\n",
    "ctab2_cs = stats.chi2_contingency(ctab1)\n",
    "\n",
    "print(ctab2)\n",
    "print(\" \")\n",
    "print(ctab2_cs)"
   ]
  },
  {
   "cell_type": "markdown",
   "id": "53d6db5d",
   "metadata": {},
   "source": [
    "As findings show that the responses in `d2` have a $p-value$ of $1.00$, the null hypothesis is thus not rejected. Therefore, there is a correlation between the perception of the respondents regarding laws protecting discrimination against their gender identity and their subset withing the LGBTQIA+ community."
   ]
  },
  {
   "cell_type": "markdown",
   "id": "61914816",
   "metadata": {},
   "source": [
    "# Correlation with Country of Origin"
   ]
  },
  {
   "cell_type": "markdown",
   "id": "ee393ead",
   "metadata": {},
   "source": [
    "After performing a cross-tabulation of the ``CountryCode`` with the ``answer`` column of the dataframe (filtered only to answers under the question code `d1`), the writer has performed a Chi-Square test of Independence."
   ]
  },
  {
   "cell_type": "markdown",
   "id": "9ab48952",
   "metadata": {},
   "source": [
    "**Hypotheses**\n",
    "<br>\n",
    "$H_{0}$ = There is no correlation between the perception of the respondents regarding laws protecting discrimination against their sexual orientation and their country of origin.\n",
    "<br>\n",
    "$H_{a}$ = There is a correlation between the perception of the respondents regarding laws protecting discrimination against their sexual orientation and their country of origin.\n",
    "<br>\n",
    "$p-value = 0.05$"
   ]
  },
  {
   "cell_type": "code",
   "execution_count": 35,
   "id": "9bf0a7d3",
   "metadata": {},
   "outputs": [
    {
     "name": "stdout",
     "output_type": "stream",
     "text": [
      "answer          Don`t know  No  Yes\n",
      "CountryCode                        \n",
      "Austria                  5   5    5\n",
      "Average                  5   5    5\n",
      "Belgium                  5   5    5\n",
      "Bulgaria                 5   5    5\n",
      "Croatia                  5   5    5\n",
      "Cyprus                   5   5    5\n",
      "Czech Republic           5   5    5\n",
      "Denmark                  5   5    5\n",
      "Estonia                  5   5    5\n",
      "Finland                  5   5    5\n",
      "France                   5   5    5\n",
      "Germany                  5   5    5\n",
      "Greece                   5   5    5\n",
      "Hungary                  5   5    5\n",
      "Ireland                  5   5    5\n",
      "Italy                    5   5    5\n",
      "Latvia                   5   5    5\n",
      "Lithuania                5   5    5\n",
      "Luxembourg               5   5    5\n",
      "Malta                    5   5    5\n",
      "Netherlands              5   5    5\n",
      "Poland                   5   5    5\n",
      "Portugal                 5   5    5\n",
      "Romania                  5   5    5\n",
      "Slovakia                 5   5    5\n",
      "Slovenia                 5   5    5\n",
      "Spain                    5   5    5\n",
      "Sweden                   5   5    5\n",
      "United Kingdom           5   5    5\n",
      " \n",
      "Chi2ContingencyResult(statistic=0.0, pvalue=1.0, dof=56, expected_freq=array([[5., 5., 5.],\n",
      "       [5., 5., 5.],\n",
      "       [5., 5., 5.],\n",
      "       [5., 5., 5.],\n",
      "       [5., 5., 5.],\n",
      "       [5., 5., 5.],\n",
      "       [5., 5., 5.],\n",
      "       [5., 5., 5.],\n",
      "       [5., 5., 5.],\n",
      "       [5., 5., 5.],\n",
      "       [5., 5., 5.],\n",
      "       [5., 5., 5.],\n",
      "       [5., 5., 5.],\n",
      "       [5., 5., 5.],\n",
      "       [5., 5., 5.],\n",
      "       [5., 5., 5.],\n",
      "       [5., 5., 5.],\n",
      "       [5., 5., 5.],\n",
      "       [5., 5., 5.],\n",
      "       [5., 5., 5.],\n",
      "       [5., 5., 5.],\n",
      "       [5., 5., 5.],\n",
      "       [5., 5., 5.],\n",
      "       [5., 5., 5.],\n",
      "       [5., 5., 5.],\n",
      "       [5., 5., 5.],\n",
      "       [5., 5., 5.],\n",
      "       [5., 5., 5.],\n",
      "       [5., 5., 5.]]))\n"
     ]
    }
   ],
   "source": [
    "d1_df = df.loc[df['question_code'] == 'd1']\n",
    "ctab1a = pd.crosstab(d1_df.CountryCode, d1_df.answer)\n",
    "ctab1a_cs = stats.chi2_contingency(ctab1a)\n",
    "\n",
    "print(ctab1a)\n",
    "print(\" \")\n",
    "print(ctab1a_cs)"
   ]
  },
  {
   "cell_type": "markdown",
   "id": "8cfa255b",
   "metadata": {},
   "source": [
    "As findings show that the responses in `d1` have a $p-value$ of $1.00$, the null hypothesis is thus not rejected. Therefore, there is a correlation between the perception of the respondents regarding laws protecting discrimination against their sexual orientation and their country of origin."
   ]
  },
  {
   "cell_type": "markdown",
   "id": "5d427fe1",
   "metadata": {},
   "source": [
    "We then performed a cross-tabulation of the ``CountryCode`` with the ``answer`` column of the dataframe filtered only to answers under the question code `d2` and performed the same procedures."
   ]
  },
  {
   "cell_type": "markdown",
   "id": "81c1a8d8",
   "metadata": {},
   "source": [
    "**Hypotheses**\n",
    "<br>\n",
    "$H_{0}$ = There is no correlation between the perception of the respondents regarding laws protecting discrimination against their gender identity and their country of origin.\n",
    "<br>\n",
    "$H_{a}$ = There is a correlation between the perception of the respondents regarding laws protecting discrimination against their gender identity and their country of origin.\n",
    "<br>\n",
    "$p-value = 0.05$"
   ]
  },
  {
   "cell_type": "code",
   "execution_count": 36,
   "id": "67f17536",
   "metadata": {},
   "outputs": [
    {
     "name": "stdout",
     "output_type": "stream",
     "text": [
      "answer          Don`t know  No  Yes\n",
      "CountryCode                        \n",
      "Austria                  5   5    5\n",
      "Average                  5   5    5\n",
      "Belgium                  5   5    5\n",
      "Bulgaria                 5   5    5\n",
      "Croatia                  5   5    5\n",
      "Cyprus                   5   5    5\n",
      "Czech Republic           5   5    5\n",
      "Denmark                  5   5    5\n",
      "Estonia                  5   5    5\n",
      "Finland                  5   5    5\n",
      "France                   5   5    5\n",
      "Germany                  5   5    5\n",
      "Greece                   5   5    5\n",
      "Hungary                  5   5    5\n",
      "Ireland                  5   5    5\n",
      "Italy                    5   5    5\n",
      "Latvia                   5   5    5\n",
      "Lithuania                5   5    5\n",
      "Luxembourg               5   5    5\n",
      "Malta                    5   5    5\n",
      "Netherlands              5   5    5\n",
      "Poland                   5   5    5\n",
      "Portugal                 5   5    5\n",
      "Romania                  5   5    5\n",
      "Slovakia                 5   5    5\n",
      "Slovenia                 5   5    5\n",
      "Spain                    5   5    5\n",
      "Sweden                   5   5    5\n",
      "United Kingdom           5   5    5\n",
      " \n",
      "Chi2ContingencyResult(statistic=0.0, pvalue=1.0, dof=56, expected_freq=array([[5., 5., 5.],\n",
      "       [5., 5., 5.],\n",
      "       [5., 5., 5.],\n",
      "       [5., 5., 5.],\n",
      "       [5., 5., 5.],\n",
      "       [5., 5., 5.],\n",
      "       [5., 5., 5.],\n",
      "       [5., 5., 5.],\n",
      "       [5., 5., 5.],\n",
      "       [5., 5., 5.],\n",
      "       [5., 5., 5.],\n",
      "       [5., 5., 5.],\n",
      "       [5., 5., 5.],\n",
      "       [5., 5., 5.],\n",
      "       [5., 5., 5.],\n",
      "       [5., 5., 5.],\n",
      "       [5., 5., 5.],\n",
      "       [5., 5., 5.],\n",
      "       [5., 5., 5.],\n",
      "       [5., 5., 5.],\n",
      "       [5., 5., 5.],\n",
      "       [5., 5., 5.],\n",
      "       [5., 5., 5.],\n",
      "       [5., 5., 5.],\n",
      "       [5., 5., 5.],\n",
      "       [5., 5., 5.],\n",
      "       [5., 5., 5.],\n",
      "       [5., 5., 5.],\n",
      "       [5., 5., 5.]]))\n"
     ]
    }
   ],
   "source": [
    "d2_df = df.loc[df['question_code'] == 'd2']\n",
    "ctab2a = pd.crosstab(d2_df.CountryCode, d2_df.answer)\n",
    "ctab2a_cs = stats.chi2_contingency(ctab2a)\n",
    "\n",
    "print(ctab2a)\n",
    "print(\" \")\n",
    "print(ctab2a_cs)"
   ]
  },
  {
   "cell_type": "markdown",
   "id": "38f2c6bc",
   "metadata": {},
   "source": [
    "As findings show that the responses in `d2` have a $p-value$ of $1.0$, the null hypothesis is thus rejected. Therefore, there is a correlation between the perception of the respondents regarding laws protecting discrimination against their gender identity and their country of origin."
   ]
  },
  {
   "cell_type": "markdown",
   "id": "8b65705d",
   "metadata": {},
   "source": [
    "# Conclusion"
   ]
  },
  {
   "cell_type": "markdown",
   "id": "59561217",
   "metadata": {},
   "source": [
    "Selected LGBTQIA+ residents within the EU have expressed that there is a lack of legal protection for them when it comes to the workplace discrimination. However, these perceptions were not influenced depending on their subset within the LGBTQIA+ community and their country of origin."
   ]
  }
 ],
 "metadata": {
  "kernelspec": {
   "display_name": "Python 3 (ipykernel)",
   "language": "python",
   "name": "python3"
  },
  "language_info": {
   "codemirror_mode": {
    "name": "ipython",
    "version": 3
   },
   "file_extension": ".py",
   "mimetype": "text/x-python",
   "name": "python",
   "nbconvert_exporter": "python",
   "pygments_lexer": "ipython3",
   "version": "3.10.9"
  }
 },
 "nbformat": 4,
 "nbformat_minor": 5
}
