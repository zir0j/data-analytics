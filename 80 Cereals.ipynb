{
 "cells": [
  {
   "cell_type": "markdown",
   "id": "1dcb0fc1",
   "metadata": {},
   "source": [
    "We examine the following dataset showing the nutritional value of 80 cereal products. This is done as an exercise to rehash the writer on essential Python data"
   ]
  },
  {
   "cell_type": "code",
   "execution_count": 66,
   "id": "51f70ad1",
   "metadata": {},
   "outputs": [],
   "source": [
    "import numpy as np\n",
    "import pandas as pd\n",
    "import matplotlib.pyplot as plt\n",
    "import pandasql as ps"
   ]
  },
  {
   "cell_type": "code",
   "execution_count": null,
   "id": "4b5de466",
   "metadata": {},
   "outputs": [],
   "source": []
  },
  {
   "cell_type": "markdown",
   "id": "ebc70801",
   "metadata": {},
   "source": [
    "The dataset came from Kaggle, a website that is a host to a plethora of datasets for beginners, intermediate, and advanced learners. Further, the data was gathered by Petra Isenberg, Pierre Dragicevic and Yvonne Jansen. Using the dataset 'cereal', we can conduct a descriptive analysis on the nutritional data of 80 brands of cereals"
   ]
  },
  {
   "cell_type": "code",
   "execution_count": 6,
   "id": "351c97c6",
   "metadata": {
    "scrolled": true
   },
   "outputs": [
    {
     "data": {
      "text/html": [
       "<div>\n",
       "<style scoped>\n",
       "    .dataframe tbody tr th:only-of-type {\n",
       "        vertical-align: middle;\n",
       "    }\n",
       "\n",
       "    .dataframe tbody tr th {\n",
       "        vertical-align: top;\n",
       "    }\n",
       "\n",
       "    .dataframe thead th {\n",
       "        text-align: right;\n",
       "    }\n",
       "</style>\n",
       "<table border=\"1\" class=\"dataframe\">\n",
       "  <thead>\n",
       "    <tr style=\"text-align: right;\">\n",
       "      <th></th>\n",
       "      <th>name</th>\n",
       "      <th>mfr</th>\n",
       "      <th>type</th>\n",
       "      <th>calories</th>\n",
       "      <th>protein</th>\n",
       "      <th>fat</th>\n",
       "      <th>sodium</th>\n",
       "      <th>fiber</th>\n",
       "      <th>carbo</th>\n",
       "      <th>sugars</th>\n",
       "      <th>potass</th>\n",
       "      <th>vitamins</th>\n",
       "      <th>shelf</th>\n",
       "      <th>weight</th>\n",
       "      <th>cups</th>\n",
       "      <th>rating</th>\n",
       "    </tr>\n",
       "  </thead>\n",
       "  <tbody>\n",
       "    <tr>\n",
       "      <th>0</th>\n",
       "      <td>100% Bran</td>\n",
       "      <td>N</td>\n",
       "      <td>C</td>\n",
       "      <td>70</td>\n",
       "      <td>4</td>\n",
       "      <td>1</td>\n",
       "      <td>130</td>\n",
       "      <td>10.0</td>\n",
       "      <td>5.0</td>\n",
       "      <td>6</td>\n",
       "      <td>280</td>\n",
       "      <td>25</td>\n",
       "      <td>3</td>\n",
       "      <td>1.0</td>\n",
       "      <td>0.33</td>\n",
       "      <td>68.402973</td>\n",
       "    </tr>\n",
       "    <tr>\n",
       "      <th>1</th>\n",
       "      <td>100% Natural Bran</td>\n",
       "      <td>Q</td>\n",
       "      <td>C</td>\n",
       "      <td>120</td>\n",
       "      <td>3</td>\n",
       "      <td>5</td>\n",
       "      <td>15</td>\n",
       "      <td>2.0</td>\n",
       "      <td>8.0</td>\n",
       "      <td>8</td>\n",
       "      <td>135</td>\n",
       "      <td>0</td>\n",
       "      <td>3</td>\n",
       "      <td>1.0</td>\n",
       "      <td>1.00</td>\n",
       "      <td>33.983679</td>\n",
       "    </tr>\n",
       "    <tr>\n",
       "      <th>2</th>\n",
       "      <td>All-Bran</td>\n",
       "      <td>K</td>\n",
       "      <td>C</td>\n",
       "      <td>70</td>\n",
       "      <td>4</td>\n",
       "      <td>1</td>\n",
       "      <td>260</td>\n",
       "      <td>9.0</td>\n",
       "      <td>7.0</td>\n",
       "      <td>5</td>\n",
       "      <td>320</td>\n",
       "      <td>25</td>\n",
       "      <td>3</td>\n",
       "      <td>1.0</td>\n",
       "      <td>0.33</td>\n",
       "      <td>59.425505</td>\n",
       "    </tr>\n",
       "    <tr>\n",
       "      <th>3</th>\n",
       "      <td>All-Bran with Extra Fiber</td>\n",
       "      <td>K</td>\n",
       "      <td>C</td>\n",
       "      <td>50</td>\n",
       "      <td>4</td>\n",
       "      <td>0</td>\n",
       "      <td>140</td>\n",
       "      <td>14.0</td>\n",
       "      <td>8.0</td>\n",
       "      <td>0</td>\n",
       "      <td>330</td>\n",
       "      <td>25</td>\n",
       "      <td>3</td>\n",
       "      <td>1.0</td>\n",
       "      <td>0.50</td>\n",
       "      <td>93.704912</td>\n",
       "    </tr>\n",
       "    <tr>\n",
       "      <th>4</th>\n",
       "      <td>Almond Delight</td>\n",
       "      <td>R</td>\n",
       "      <td>C</td>\n",
       "      <td>110</td>\n",
       "      <td>2</td>\n",
       "      <td>2</td>\n",
       "      <td>200</td>\n",
       "      <td>1.0</td>\n",
       "      <td>14.0</td>\n",
       "      <td>8</td>\n",
       "      <td>-1</td>\n",
       "      <td>25</td>\n",
       "      <td>3</td>\n",
       "      <td>1.0</td>\n",
       "      <td>0.75</td>\n",
       "      <td>34.384843</td>\n",
       "    </tr>\n",
       "  </tbody>\n",
       "</table>\n",
       "</div>"
      ],
      "text/plain": [
       "                        name mfr type  calories  protein  fat  sodium  fiber  \\\n",
       "0                  100% Bran   N    C        70        4    1     130   10.0   \n",
       "1          100% Natural Bran   Q    C       120        3    5      15    2.0   \n",
       "2                   All-Bran   K    C        70        4    1     260    9.0   \n",
       "3  All-Bran with Extra Fiber   K    C        50        4    0     140   14.0   \n",
       "4             Almond Delight   R    C       110        2    2     200    1.0   \n",
       "\n",
       "   carbo  sugars  potass  vitamins  shelf  weight  cups     rating  \n",
       "0    5.0       6     280        25      3     1.0  0.33  68.402973  \n",
       "1    8.0       8     135         0      3     1.0  1.00  33.983679  \n",
       "2    7.0       5     320        25      3     1.0  0.33  59.425505  \n",
       "3    8.0       0     330        25      3     1.0  0.50  93.704912  \n",
       "4   14.0       8      -1        25      3     1.0  0.75  34.384843  "
      ]
     },
     "execution_count": 6,
     "metadata": {},
     "output_type": "execute_result"
    }
   ],
   "source": [
    "plt.style.use('bmh')\n",
    "df = pd.read_csv('cereal.csv')\n",
    "df.head()"
   ]
  },
  {
   "cell_type": "markdown",
   "id": "ffcc5fde",
   "metadata": {},
   "source": [
    "We first identified the manufacturers (mfr in the dataset) of the selected cereal brands. We have identified seven (7) manufacturers. Particularly:\n",
    "\n",
    "* A for American Home Food Products\n",
    "* G for General Mills\n",
    "* K for Kelloggs\n",
    "* N for Nabisco\n",
    "* P for Post\n",
    "* Q for Quaker Oats\n",
    "* R for Ralston Purina\n",
    "\n",
    "Kellogs has 23 cereals in the dataset, thus composing the majority of the dataset (28.75%) while American Home Food Products has the least count with only one cereal (1.25)"
   ]
  },
  {
   "cell_type": "code",
   "execution_count": 50,
   "id": "051e8a37",
   "metadata": {
    "scrolled": true
   },
   "outputs": [
    {
     "name": "stdout",
     "output_type": "stream",
     "text": [
      "Initials of Manufacters: ['N' 'Q' 'K' 'R' 'G' 'P' 'A']\n",
      "Number of Unique Values: 7\n",
      "Count of Manufacturers in the Dataset:\n",
      "K    23\n",
      "G    22\n",
      "P     9\n",
      "Q     8\n",
      "R     8\n",
      "N     6\n",
      "A     1\n",
      "Name: mfr, dtype: int64\n",
      "Percentage of the majority of Dataset: 28.75 %\n",
      "Percentage of the least of the Dataset: 1.25 %\n"
     ]
    }
   ],
   "source": [
    "mfr = df.loc[:, 'mfr']\n",
    "mfr_unique = mfr.unique()\n",
    "mfr_nunique = mfr.nunique()\n",
    "mfr_count = df.loc[:, 'mfr'].value_counts()\n",
    "\n",
    "mfr_K = np.divide(23,80)\n",
    "mfr_A = np.divide(1,80)\n",
    "mfr_K_dec = np.multiply(mfr_K,100)\n",
    "mfr_A_dec = np.multiply(mfr_A,100)\n",
    "\n",
    "print(\"Initials of Manufacters:\", mfr_unique)\n",
    "print(\"Number of Unique Values:\", mfr_nunique)\n",
    "print(\"Count of Manufacturers in the Dataset:\")\n",
    "print(mfr_count)\n",
    "print(\"Percentage of the majority of Dataset:\", round(mfr_K_dec,2),\"%\")\n",
    "print(\"Percentage of the least of the Dataset:\", round(mfr_A_dec,2),\"%\")"
   ]
  },
  {
   "cell_type": "markdown",
   "id": "30ba0369",
   "metadata": {},
   "source": [
    "The distribution of the count of manfuactureres can be visualized as such:"
   ]
  },
  {
   "cell_type": "code",
   "execution_count": 53,
   "id": "58864317",
   "metadata": {},
   "outputs": [
    {
     "data": {
      "text/plain": [
       "<BarContainer object of 7 artists>"
      ]
     },
     "execution_count": 53,
     "metadata": {},
     "output_type": "execute_result"
    },
    {
     "data": {
      "image/png": "[encoded data removed]",
      "text/plain": [
       "<Figure size 640x480 with 1 Axes>"
      ]
     },
     "metadata": {},
     "output_type": "display_data"
    }
   ],
   "source": [
    "mfr_x = mfr.unique()\n",
    "mfr_y = df.loc[:, 'mfr'].value_counts()\n",
    "\n",
    "plt.xlabel(\"Count\", fontsize=18)\n",
    "plt.ylabel(\"Manufacturer\", fontsize=16)\n",
    "plt.bar(mfr_x, mfr_y)"
   ]
  },
  {
   "cell_type": "markdown",
   "id": "b906260e",
   "metadata": {},
   "source": [
    "The data also separated the cereals from two types: Hot (denoted with H) and Cold (C). There are 74 Cold cereals indetified, thus comprising 96.1% of the entire dataset while only three hot cereals were idetified, which only composed 3.9% of the dataset."
   ]
  },
  {
   "cell_type": "code",
   "execution_count": 51,
   "id": "56f70122",
   "metadata": {},
   "outputs": [
    {
     "name": "stdout",
     "output_type": "stream",
     "text": [
      "Number of Cold and Hot cereals:\n",
      "C    74\n",
      "H     3\n",
      "Name: type, dtype: int64\n",
      "Percentage of Cold Cereal: 96.1 %\n",
      "Percentage of Hot Cereal: 3.9 %\n"
     ]
    }
   ],
   "source": [
    "horc_count = df.loc[:, 'type'].value_counts()\n",
    "horc_C = np.divide(74,77)\n",
    "horc_H = np.divide(3,77)\n",
    "horc_C_dec = np.multiply(horc_C,100)\n",
    "horc_H_dec = np.multiply(horc_H,100)\n",
    "\n",
    "print(\"Number of Cold and Hot cereals:\")\n",
    "print(horc_count)\n",
    "print(\"Percentage of Cold Cereal:\",round(horc_C_dec,2),\"%\")\n",
    "print(\"Percentage of Hot Cereal:\",round(horc_H_dec,2),\"%\")"
   ]
  },
  {
   "cell_type": "markdown",
   "id": "94df35c5",
   "metadata": {},
   "source": [
    "The data can be presented as such:"
   ]
  },
  {
   "cell_type": "code",
   "execution_count": 57,
   "id": "10d20d81",
   "metadata": {},
   "outputs": [
    {
     "data": {
      "text/plain": [
       "([<matplotlib.patches.Wedge at 0x1857bf10b20>,\n",
       "  <matplotlib.patches.Wedge at 0x1857bf10a30>],\n",
       " [Text(-1.0917703468611777, 0.1343037963522388, 'C'),\n",
       "  Text(1.0917703405739623, -0.13430384746169677, 'H')])"
      ]
     },
     "execution_count": 57,
     "metadata": {},
     "output_type": "execute_result"
    },
    {
     "data": {
      "image/png": "[encoded data removed]",
      "text/plain": [
       "<Figure size 640x480 with 1 Axes>"
      ]
     },
     "metadata": {},
     "output_type": "display_data"
    }
   ],
   "source": [
    "horc = df.loc[:, 'type']\n",
    "horc_labels = horc.unique()\n",
    "\n",
    "plt.pie(horc_count, labels = horc_labels)"
   ]
  },
  {
   "cell_type": "markdown",
   "id": "7f73d655",
   "metadata": {},
   "source": [
    "We then calculated for the average nutrients per pack of cereal. Upon calculation, these are the findings:"
   ]
  },
  {
   "cell_type": "code",
   "execution_count": 48,
   "id": "6032158b",
   "metadata": {},
   "outputs": [
    {
     "name": "stdout",
     "output_type": "stream",
     "text": [
      "Average Calories: 106.88\n",
      "Average Protein: 2.55\n",
      "Average Fiber Count: 1.01\n",
      "Average Sodium: 159.68\n",
      "Average Sugar Count: 6.92\n"
     ]
    }
   ],
   "source": [
    "cal_mean = df['calories'].mean()\n",
    "prt_mean = df['protein'].mean()\n",
    "fib_mean = df['fat'].mean()\n",
    "sod_mean = df['sodium'].mean()\n",
    "sug_mean = df['sugars'].mean()\n",
    "\n",
    "print(\"Average Calories:\", round(cal_mean,2))\n",
    "print(\"Average Protein:\", round(prt_mean,2))\n",
    "print(\"Average Fiber Count:\", round(fib_mean,2))\n",
    "print(\"Average Sodium:\", round(sod_mean,2))\n",
    "print(\"Average Sugar Count:\", round(sug_mean,2))"
   ]
  },
  {
   "cell_type": "markdown",
   "id": "334970c1",
   "metadata": {},
   "source": [
    "To further examine if cereals have exceeded the average nutrients needed, a combination chart has been made to visualize the data"
   ]
  },
  {
   "cell_type": "code",
   "execution_count": 65,
   "id": "03e9dc25",
   "metadata": {},
   "outputs": [
    {
     "data": {
      "text/plain": [
       "[<matplotlib.lines.Line2D at 0x1857eb49600>]"
      ]
     },
     "execution_count": 65,
     "metadata": {},
     "output_type": "execute_result"
    },
    {
     "data": {
      "image/png": "[encoded data removed]",
      "text/plain": [
       "<Figure size 640x480 with 1 Axes>"
      ]
     },
     "metadata": {},
     "output_type": "display_data"
    }
   ],
   "source": [
    "nut_x = [\"Calories\",\"Protein\",\"Fiber\",\"Sodium\",\"Sugars\"]\n",
    "nut_y = [cal_mean,prt_mean,fib_mean,sod_mean,sug_mean]\n",
    "\n",
    "cal_max = df['calories'].max(axis=0)\n",
    "prt_max = df['protein'].max(axis=0)\n",
    "fib_max = df['fat'].max(axis=0)\n",
    "sod_max = df['sodium'].max(axis=0)\n",
    "sug_max = df['sugars'].max(axis=0)\n",
    "nut_y_max = [cal_max,prt_max,fib_max,sod_max,sug_max]\n",
    "\n",
    "plt.xlabel(\"Count\", fontsize=18)\n",
    "plt.ylabel(\"Nutrient\", fontsize=16)\n",
    "plt.bar(nut_x, nut_y)\n",
    "plt.plot(nut_x, nut_y_max, color='orange')"
   ]
  },
  {
   "cell_type": "code",
   "execution_count": null,
   "id": "a572ac14",
   "metadata": {},
   "outputs": [],
   "source": []
  },
  {
   "cell_type": "code",
   "execution_count": null,
   "id": "1ba6f06a",
   "metadata": {},
   "outputs": [],
   "source": []
  }
 ],
 "metadata": {
  "kernelspec": {
   "display_name": "Python 3 (ipykernel)",
   "language": "python",
   "name": "python3"
  },
  "language_info": {
   "codemirror_mode": {
    "name": "ipython",
    "version": 3
   },
   "file_extension": ".py",
   "mimetype": "text/x-python",
   "name": "python",
   "nbconvert_exporter": "python",
   "pygments_lexer": "ipython3",
   "version": "3.10.9"
  }
 },
 "nbformat": 4,
 "nbformat_minor": 5
}
